{
 "cells": [
  {
   "cell_type": "code",
   "execution_count": null,
   "metadata": {
    "collapsed": true
   },
   "outputs": [],
   "source": [
    "import os\n",
    "import cv2\n",
    "import numpy as np\n",
    "from torch.utils.data import Dataset\n"
   ]
  },
  {
   "cell_type": "markdown",
   "source": [
    "创建自定义数据集类"
   ],
   "metadata": {
    "collapsed": false
   }
  },
  {
   "cell_type": "code",
   "execution_count": null,
   "outputs": [],
   "source": [
    "class BreastCancerDataset(Dataset):\n",
    "    \"\"\"\n",
    "    乳腺癌数据集\n",
    "    \"\"\"\n",
    "\n",
    "    def __init__(self, img_dir, mask_dir, transform=None):\n",
    "        self.img_dir = img_dir\n",
    "        self.mask_dir = mask_dir\n",
    "        self.transform = transform\n",
    "\n",
    "    def __len__(self):\n",
    "        return len(os.listdir(self.img_dir))\n",
    "\n",
    "    def __getitem__(self, index):\n",
    "        img_path = os.path.join(self.img_dir, f\"benign({index+1}).png\")\n",
    "        mask_path = os.path.join(self.mask_dir, f\"benign({index+1})_mask.png\")\n",
    "\n",
    "        # 读取图像和MASK\n",
    "        image = cv2.imread(img_path, cv2.IMREAD_COLOR)\n",
    "        mask = cv2.imread(mask_path, cv2.IMREAD_GRAYSCALE)\n",
    "\n",
    "        # 数据增强\n",
    "        if self.transform:\n",
    "            augmented = self.transform(image=image, mask=mask)\n",
    "            image = augmented['image']\n",
    "            mask = augmented['mask']\n",
    "\n",
    "        # 将图像和MASK转换为PyTorch张量\n",
    "        image = image.transpose(2, 0, 1)\n",
    "        mask = mask.reshape(1, mask.shape[0], mask.shape[1])\n",
    "        image = image.astype(np.float32) / 255.0\n",
    "        mask = mask.astype(np.float32)\n",
    "\n",
    "        return image, mask, 0\n"
   ],
   "metadata": {
    "collapsed": false
   }
  },
  {
   "cell_type": "markdown",
   "source": [
    "使用自定义数据集类加载数据并进行数据增强"
   ],
   "metadata": {
    "collapsed": false
   }
  },
  {
   "cell_type": "code",
   "execution_count": null,
   "outputs": [],
   "source": [
    "import albumentations as A\n",
    "from albumentations.pytorch import ToTensorV2\n",
    "\n",
    "train_transform = A.Compose([\n",
    "    A.HorizontalFlip(p=0.5),\n",
    "    A.RandomBrightnessContrast(p=0.2),\n",
    "    A.Normalize(),\n",
    "    ToTensorV2()\n",
    "])\n",
    "\n",
    "# 使用您的图像和MASK文件夹路径替换 \"your_image_dir\" 和 \"your_mask_dir\"\n",
    "dataset = BreastCancerDataset(\"\", \"\", transform=train_transform)\n"
   ],
   "metadata": {
    "collapsed": false
   }
  },
  {
   "cell_type": "markdown",
   "source": [
    "划分数据集为训练集和验证集"
   ],
   "metadata": {
    "collapsed": false
   }
  },
  {
   "cell_type": "code",
   "execution_count": null,
   "outputs": [],
   "source": [
    "from sklearn.model_selection import train_test_split\n",
    "\n",
    "train_dataset, val_dataset = train_test_split(dataset, test_size=0.2, random_state=42)\n"
   ],
   "metadata": {
    "collapsed": false
   }
  },
  {
   "cell_type": "markdown",
   "source": [
    "定义数据加载器"
   ],
   "metadata": {
    "collapsed": false
   }
  },
  {
   "cell_type": "code",
   "execution_count": null,
   "outputs": [],
   "source": [
    "from torch.utils.data import DataLoader\n",
    "\n",
    "train_loader = DataLoader(train_dataset, batch_size=16, shuffle=True, num_workers=4)\n",
    "val_loader = DataLoader(val_dataset, batch_size=16, shuffle=False, num_workers=4)\n"
   ],
   "metadata": {
    "collapsed": false
   }
  },
  {
   "cell_type": "markdown",
   "source": [
    "实例化U-Net模型"
   ],
   "metadata": {
    "collapsed": false
   }
  },
  {
   "cell_type": "code",
   "execution_count": null,
   "outputs": [],
   "source": [
    "import torch\n",
    "import torch.nn as nn\n",
    "from torchvision.models.segmentation import fcn_resnet50\n",
    "\n",
    "model = fcn_resnet50(pretrained=False, num_classes=3)\n",
    "model = model.cuda()\n"
   ],
   "metadata": {
    "collapsed": false
   }
  },
  {
   "cell_type": "markdown",
   "source": [
    "定义损失函数和优化器"
   ],
   "metadata": {
    "collapsed": false
   }
  },
  {
   "cell_type": "code",
   "execution_count": null,
   "outputs": [],
   "source": [
    "criterion = nn.CrossEntropyLoss()\n",
    "optimizer = torch.optim.Adam(model.parameters(), lr=1e-4)\n"
   ],
   "metadata": {
    "collapsed": false
   }
  },
  {
   "cell_type": "markdown",
   "source": [
    "编写训练循环"
   ],
   "metadata": {
    "collapsed": false
   }
  },
  {
   "cell_type": "code",
   "execution_count": null,
   "outputs": [],
   "source": [
    "from sklearn.metrics import f1_score\n",
    "\n",
    "num_epochs = 20\n",
    "\n",
    "for epoch in range(num_epochs):\n",
    "    print(f\"Epoch {epoch + 1}/{num_epochs}\")\n",
    "    print(\"-\" * 10)\n",
    "\n",
    "    for phase in [\"train\", \"val\"]:\n",
    "        if phase == \"train\":\n",
    "            model.train()\n",
    "            dataloader = train_loader\n",
    "        else:\n",
    "            model.eval()\n",
    "            dataloader = val_loader\n",
    "\n",
    "        running_loss = 0.0\n",
    "        running_corrects = 0\n",
    "        running_f1_score = 0.0\n",
    "\n",
    "        for images, masks, labels in dataloader:\n",
    "            images = images.cuda()\n",
    "            masks = masks.cuda()\n",
    "            labels = labels.cuda()\n",
    "\n",
    "            optimizer.zero_grad()\n",
    "\n",
    "            with torch.set_grad_enabled(phase == \"train\"):\n",
    "                outputs = model(images)\n",
    "                _, preds = torch.max(outputs, 1)\n",
    "                loss = criterion(outputs, masks)\n",
    "\n",
    "                if phase == \"train\":\n",
    "                    loss.backward()\n",
    "                    optimizer.step()\n",
    "\n",
    "            running_loss += loss.item() * images.size(0)\n",
    "            running_corrects += torch.sum(preds == masks.data)\n",
    "            running_f1_score += f1_score(masks.cpu().numpy().ravel(), preds.cpu().numpy().ravel(), average=\"macro\")\n",
    "\n",
    "        epoch_loss = running_loss / len(dataloader.dataset)\n",
    "        epoch_acc = running_corrects.double() / len(dataloader.dataset)\n",
    "        epoch_f1_score = running_f1_score / len(dataloader)\n",
    "\n",
    "        print(f\"{phase} Loss: {epoch_loss:.4f} Acc: {epoch_acc:.4f} F1: {epoch_f1_score:.4f}\")\n",
    "\n",
    "print(\"Training complete\")\n"
   ],
   "metadata": {
    "collapsed": false
   }
  },
  {
   "cell_type": "code",
   "execution_count": null,
   "outputs": [],
   "source": [
    "def evaluate(dataloader, model):\n",
    "    # 设置评估模式\n",
    "    model.eval()\n",
    "\n",
    "    running_loss = 0.0\n",
    "    running_corrects = 0\n",
    "    running_f1_score = 0.0\n",
    "\n",
    "    # 遍历数据\n",
    "    for inputs, masks, labels in dataloader:\n",
    "        ...\n",
    "\n",
    "    # 计算epoch loss, acc 和 f1 score\n",
    "    epoch_loss = running_loss / len(dataloader.dataset)\n",
    "    epoch_acc = running_corrects.double() / len(dataloader.dataset)\n",
    "    epoch_f1_score = running_f1_score / len(dataloader)\n",
    "\n",
    "    return epoch_loss, epoch_acc, epoch_f1_score\n",
    "\n",
    "for epoch in range(num_epochs):\n",
    "    # 打印epoch信息\n",
    "    print(f'Epoch {epoch + 1}/{num_epochs}')\n",
    "    print('-' * 10)\n",
    "\n",
    "    for phase in ['train', 'val']:\n",
    "        # 训练模式\n",
    "        if phase == 'train':\n",
    "            model.train()\n",
    "            dataloader = train_loader\n",
    "\n",
    "        # 验证模式\n",
    "        else:\n",
    "            # 计算验证集loss, acc 和 f1 score\n",
    "            epoch_loss, epoch_acc, epoch_f1_score = evaluate(val_loader, model)\n",
    "\n",
    "        # 打印训练或验证指标\n",
    "        print(f'{phase} Loss: {epoch_loss:.4f} Acc: {epoch_acc*100:.2f}% F1: {epoch_f1_score*100:.2f}%')\n",
    "\n",
    "    # 在最后一个epoch,在训练集上计算模型指标,检查过拟合情况\n",
    "    if epoch == num_epochs - 1:\n",
    "        epoch_loss, epoch_acc, epoch_f1_score = evaluate(train_loader, model)\n",
    "        print(f'train Loss: {epoch_loss:.4f} Acc: {epoch_acc*100:.2f}% F1: {epoch_f1_score*100:.2f}%')\n",
    "\n",
    "    print('Training complete')\n",
    "    # 保存最终模型参数\n",
    "    torch.save(model.state_dict(), 'model.pth')\n"
   ],
   "metadata": {
    "collapsed": false
   }
  }
 ],
 "metadata": {
  "kernelspec": {
   "display_name": "Python 3",
   "language": "python",
   "name": "python3"
  },
  "language_info": {
   "codemirror_mode": {
    "name": "ipython",
    "version": 2
   },
   "file_extension": ".py",
   "mimetype": "text/x-python",
   "name": "python",
   "nbconvert_exporter": "python",
   "pygments_lexer": "ipython2",
   "version": "2.7.6"
  }
 },
 "nbformat": 4,
 "nbformat_minor": 0
}
