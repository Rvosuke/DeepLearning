{
 "cells": [
  {
   "cell_type": "code",
   "execution_count": 1,
   "metadata": {
    "collapsed": true,
    "ExecuteTime": {
     "start_time": "2023-04-17T00:38:53.956921Z",
     "end_time": "2023-04-17T00:38:53.971458Z"
    }
   },
   "outputs": [],
   "source": [
    "import numpy as np\n",
    "import pandas as pd\n",
    "import warnings\n",
    "import matplotlib.pyplot as plt\n",
    "import seaborn as sns\n",
    "from IPython.display import display, clear_output\n",
    "warnings.filterwarnings('ignore')\n",
    "pd.set_option('display.width', 1000)\n",
    "%matplotlib inline"
   ]
  },
  {
   "cell_type": "code",
   "execution_count": 2,
   "outputs": [
    {
     "name": "stdout",
     "output_type": "stream",
     "text": [
      "<class 'pandas.core.frame.DataFrame'>\n",
      "RangeIndex: 1460 entries, 0 to 1459\n",
      "Data columns (total 81 columns):\n",
      " #   Column         Non-Null Count  Dtype  \n",
      "---  ------         --------------  -----  \n",
      " 0   Id             1460 non-null   int64  \n",
      " 1   MSSubClass     1460 non-null   int64  \n",
      " 2   MSZoning       1460 non-null   object \n",
      " 3   LotFrontage    1201 non-null   float64\n",
      " 4   LotArea        1460 non-null   int64  \n",
      " 5   Street         1460 non-null   object \n",
      " 6   Alley          91 non-null     object \n",
      " 7   LotShape       1460 non-null   object \n",
      " 8   LandContour    1460 non-null   object \n",
      " 9   Utilities      1460 non-null   object \n",
      " 10  LotConfig      1460 non-null   object \n",
      " 11  LandSlope      1460 non-null   object \n",
      " 12  Neighborhood   1460 non-null   object \n",
      " 13  Condition1     1460 non-null   object \n",
      " 14  Condition2     1460 non-null   object \n",
      " 15  BldgType       1460 non-null   object \n",
      " 16  HouseStyle     1460 non-null   object \n",
      " 17  OverallQual    1460 non-null   int64  \n",
      " 18  OverallCond    1460 non-null   int64  \n",
      " 19  YearBuilt      1460 non-null   int64  \n",
      " 20  YearRemodAdd   1460 non-null   int64  \n",
      " 21  RoofStyle      1460 non-null   object \n",
      " 22  RoofMatl       1460 non-null   object \n",
      " 23  Exterior1st    1460 non-null   object \n",
      " 24  Exterior2nd    1460 non-null   object \n",
      " 25  MasVnrType     1452 non-null   object \n",
      " 26  MasVnrArea     1452 non-null   float64\n",
      " 27  ExterQual      1460 non-null   object \n",
      " 28  ExterCond      1460 non-null   object \n",
      " 29  Foundation     1460 non-null   object \n",
      " 30  BsmtQual       1423 non-null   object \n",
      " 31  BsmtCond       1423 non-null   object \n",
      " 32  BsmtExposure   1422 non-null   object \n",
      " 33  BsmtFinType1   1423 non-null   object \n",
      " 34  BsmtFinSF1     1460 non-null   int64  \n",
      " 35  BsmtFinType2   1422 non-null   object \n",
      " 36  BsmtFinSF2     1460 non-null   int64  \n",
      " 37  BsmtUnfSF      1460 non-null   int64  \n",
      " 38  TotalBsmtSF    1460 non-null   int64  \n",
      " 39  Heating        1460 non-null   object \n",
      " 40  HeatingQC      1460 non-null   object \n",
      " 41  CentralAir     1460 non-null   object \n",
      " 42  Electrical     1459 non-null   object \n",
      " 43  1stFlrSF       1460 non-null   int64  \n",
      " 44  2ndFlrSF       1460 non-null   int64  \n",
      " 45  LowQualFinSF   1460 non-null   int64  \n",
      " 46  GrLivArea      1460 non-null   int64  \n",
      " 47  BsmtFullBath   1460 non-null   int64  \n",
      " 48  BsmtHalfBath   1460 non-null   int64  \n",
      " 49  FullBath       1460 non-null   int64  \n",
      " 50  HalfBath       1460 non-null   int64  \n",
      " 51  BedroomAbvGr   1460 non-null   int64  \n",
      " 52  KitchenAbvGr   1460 non-null   int64  \n",
      " 53  KitchenQual    1460 non-null   object \n",
      " 54  TotRmsAbvGrd   1460 non-null   int64  \n",
      " 55  Functional     1460 non-null   object \n",
      " 56  Fireplaces     1460 non-null   int64  \n",
      " 57  FireplaceQu    770 non-null    object \n",
      " 58  GarageType     1379 non-null   object \n",
      " 59  GarageYrBlt    1379 non-null   float64\n",
      " 60  GarageFinish   1379 non-null   object \n",
      " 61  GarageCars     1460 non-null   int64  \n",
      " 62  GarageArea     1460 non-null   int64  \n",
      " 63  GarageQual     1379 non-null   object \n",
      " 64  GarageCond     1379 non-null   object \n",
      " 65  PavedDrive     1460 non-null   object \n",
      " 66  WoodDeckSF     1460 non-null   int64  \n",
      " 67  OpenPorchSF    1460 non-null   int64  \n",
      " 68  EnclosedPorch  1460 non-null   int64  \n",
      " 69  3SsnPorch      1460 non-null   int64  \n",
      " 70  ScreenPorch    1460 non-null   int64  \n",
      " 71  PoolArea       1460 non-null   int64  \n",
      " 72  PoolQC         7 non-null      object \n",
      " 73  Fence          281 non-null    object \n",
      " 74  MiscFeature    54 non-null     object \n",
      " 75  MiscVal        1460 non-null   int64  \n",
      " 76  MoSold         1460 non-null   int64  \n",
      " 77  YrSold         1460 non-null   int64  \n",
      " 78  SaleType       1460 non-null   object \n",
      " 79  SaleCondition  1460 non-null   object \n",
      " 80  SalePrice      1460 non-null   int64  \n",
      "dtypes: float64(3), int64(35), object(43)\n",
      "memory usage: 924.0+ KB\n",
      "None\n",
      "<class 'pandas.core.frame.DataFrame'>\n",
      "RangeIndex: 1459 entries, 0 to 1458\n",
      "Data columns (total 80 columns):\n",
      " #   Column         Non-Null Count  Dtype  \n",
      "---  ------         --------------  -----  \n",
      " 0   Id             1459 non-null   int64  \n",
      " 1   MSSubClass     1459 non-null   int64  \n",
      " 2   MSZoning       1455 non-null   object \n",
      " 3   LotFrontage    1232 non-null   float64\n",
      " 4   LotArea        1459 non-null   int64  \n",
      " 5   Street         1459 non-null   object \n",
      " 6   Alley          107 non-null    object \n",
      " 7   LotShape       1459 non-null   object \n",
      " 8   LandContour    1459 non-null   object \n",
      " 9   Utilities      1457 non-null   object \n",
      " 10  LotConfig      1459 non-null   object \n",
      " 11  LandSlope      1459 non-null   object \n",
      " 12  Neighborhood   1459 non-null   object \n",
      " 13  Condition1     1459 non-null   object \n",
      " 14  Condition2     1459 non-null   object \n",
      " 15  BldgType       1459 non-null   object \n",
      " 16  HouseStyle     1459 non-null   object \n",
      " 17  OverallQual    1459 non-null   int64  \n",
      " 18  OverallCond    1459 non-null   int64  \n",
      " 19  YearBuilt      1459 non-null   int64  \n",
      " 20  YearRemodAdd   1459 non-null   int64  \n",
      " 21  RoofStyle      1459 non-null   object \n",
      " 22  RoofMatl       1459 non-null   object \n",
      " 23  Exterior1st    1458 non-null   object \n",
      " 24  Exterior2nd    1458 non-null   object \n",
      " 25  MasVnrType     1443 non-null   object \n",
      " 26  MasVnrArea     1444 non-null   float64\n",
      " 27  ExterQual      1459 non-null   object \n",
      " 28  ExterCond      1459 non-null   object \n",
      " 29  Foundation     1459 non-null   object \n",
      " 30  BsmtQual       1415 non-null   object \n",
      " 31  BsmtCond       1414 non-null   object \n",
      " 32  BsmtExposure   1415 non-null   object \n",
      " 33  BsmtFinType1   1417 non-null   object \n",
      " 34  BsmtFinSF1     1458 non-null   float64\n",
      " 35  BsmtFinType2   1417 non-null   object \n",
      " 36  BsmtFinSF2     1458 non-null   float64\n",
      " 37  BsmtUnfSF      1458 non-null   float64\n",
      " 38  TotalBsmtSF    1458 non-null   float64\n",
      " 39  Heating        1459 non-null   object \n",
      " 40  HeatingQC      1459 non-null   object \n",
      " 41  CentralAir     1459 non-null   object \n",
      " 42  Electrical     1459 non-null   object \n",
      " 43  1stFlrSF       1459 non-null   int64  \n",
      " 44  2ndFlrSF       1459 non-null   int64  \n",
      " 45  LowQualFinSF   1459 non-null   int64  \n",
      " 46  GrLivArea      1459 non-null   int64  \n",
      " 47  BsmtFullBath   1457 non-null   float64\n",
      " 48  BsmtHalfBath   1457 non-null   float64\n",
      " 49  FullBath       1459 non-null   int64  \n",
      " 50  HalfBath       1459 non-null   int64  \n",
      " 51  BedroomAbvGr   1459 non-null   int64  \n",
      " 52  KitchenAbvGr   1459 non-null   int64  \n",
      " 53  KitchenQual    1458 non-null   object \n",
      " 54  TotRmsAbvGrd   1459 non-null   int64  \n",
      " 55  Functional     1457 non-null   object \n",
      " 56  Fireplaces     1459 non-null   int64  \n",
      " 57  FireplaceQu    729 non-null    object \n",
      " 58  GarageType     1383 non-null   object \n",
      " 59  GarageYrBlt    1381 non-null   float64\n",
      " 60  GarageFinish   1381 non-null   object \n",
      " 61  GarageCars     1458 non-null   float64\n",
      " 62  GarageArea     1458 non-null   float64\n",
      " 63  GarageQual     1381 non-null   object \n",
      " 64  GarageCond     1381 non-null   object \n",
      " 65  PavedDrive     1459 non-null   object \n",
      " 66  WoodDeckSF     1459 non-null   int64  \n",
      " 67  OpenPorchSF    1459 non-null   int64  \n",
      " 68  EnclosedPorch  1459 non-null   int64  \n",
      " 69  3SsnPorch      1459 non-null   int64  \n",
      " 70  ScreenPorch    1459 non-null   int64  \n",
      " 71  PoolArea       1459 non-null   int64  \n",
      " 72  PoolQC         3 non-null      object \n",
      " 73  Fence          290 non-null    object \n",
      " 74  MiscFeature    51 non-null     object \n",
      " 75  MiscVal        1459 non-null   int64  \n",
      " 76  MoSold         1459 non-null   int64  \n",
      " 77  YrSold         1459 non-null   int64  \n",
      " 78  SaleType       1458 non-null   object \n",
      " 79  SaleCondition  1459 non-null   object \n",
      "dtypes: float64(11), int64(26), object(43)\n",
      "memory usage: 912.0+ KB\n",
      "None\n"
     ]
    }
   ],
   "source": [
    "train = pd.read_csv('house-prices-advanced-regression-techniques/train.csv')\n",
    "test = pd.read_csv('house-prices-advanced-regression-techniques/test.csv')\n",
    "print(train.info())#\n",
    "print(test.info())"
   ],
   "metadata": {
    "collapsed": false,
    "ExecuteTime": {
     "start_time": "2023-04-17T00:38:53.973496Z",
     "end_time": "2023-04-17T00:38:54.037672Z"
    }
   }
  },
  {
   "cell_type": "markdown",
   "source": [
    "# 通过观察发现，很多特征之间是有一定的逻辑关联的，而这种逻辑关联往往可以通过特征名来识别，所以我们可以通过一个文本相似度算法来对特征进行分组，将关联性高的特征分到一组，分别使用不同的模型进行训练评估，最后再利用adaboost集成.\n",
    "# 文本相似度分析\n",
    "from sklearn.feature_extraction.text import TfidfVectorizer\n",
    "from sklearn.metrics.pairwise import cosine_similarity\n",
    "from scipy.cluster.hierarchy import linkage, fcluster\n",
    "feature_names = train.columns[1:-1].tolist()\n",
    "# 计算特征名称之间的余弦相似度\n",
    "vectorizer = TfidfVectorizer(analyzer='char', ngram_range=(1, 2))\n",
    "tfidf_matrix = vectorizer.fit_transform(feature_names)\n",
    "cosine_sim = cosine_similarity(tfidf_matrix)\n",
    "\n",
    "# 使用层次聚类对特征进行分组\n",
    "linkage_matrix = linkage(cosine_sim, method='complete')\n",
    "plt.figure(figsize=(10, 5))\n",
    "dendrogram = plt.gca()\n",
    "dendrogram.set_xticklabels(feature_names)\n",
    "cluster_labels = fcluster(linkage_matrix, 1.0, criterion='distance')\n",
    "\n",
    "# 输出分组结果\n",
    "grouped_features = pd.DataFrame({'Feature': feature_names, 'Group': cluster_labels})\n",
    "print(grouped_features)\n",
    "# 创建特征分组字典\n",
    "feature_groups = {}\n",
    "for group in grouped_features['Group'].unique():\n",
    "    feature_groups[f'Group{group}'] = grouped_features[grouped_features['Group'] == group]['Feature'].tolist()\n",
    "\n",
    "# 输出每个特征组的前五行\n",
    "for group_name, features in feature_groups.items():    print(f\"{group_name}:\\n{train[features].head()}\\n\")"
   ],
   "metadata": {
    "collapsed": false
   }
  },
  {
   "cell_type": "markdown",
   "source": [
    "以上代码是使用文本相似度对特征进行分组，但是效果并不好。我们可以直接把特征值传给GPT4，让它来根据逻辑和常理进行分类，如此能省下很多时间。"
   ],
   "metadata": {
    "collapsed": false
   }
  },
  {
   "cell_type": "code",
   "execution_count": 3,
   "outputs": [],
   "source": [
    "# 特征分组，以下是通过GPT4分类，并经过了一定的人为修改\n",
    "group_1 = ['MSSubClass', 'MSZoning', 'BldgType', 'HouseStyle', 'OverallQual', 'OverallCond', 'YearBuilt', 'YearRemodAdd']\n",
    "group_2 = ['LotFrontage', 'LotArea', 'Street', 'Alley', 'LotShape', 'LandContour', 'Utilities', 'LotConfig', 'LandSlope', 'Neighborhood', 'Condition1', 'Condition2']\n",
    "group_3 = ['RoofStyle', 'RoofMatl', 'Exterior1st', 'Exterior2nd', 'MasVnrType', 'MasVnrArea', 'ExterQual', 'ExterCond']\n",
    "group_4 = ['Foundation', 'BsmtQual', 'BsmtCond', 'BsmtExposure', 'BsmtFinType1', 'BsmtFinSF1', 'BsmtFinType2', 'BsmtFinSF2', 'BsmtUnfSF', 'TotalBsmtSF']\n",
    "group_5 = ['Heating', 'HeatingQC', 'CentralAir', 'Fireplaces', 'FireplaceQu', 'Electrical']\n",
    "group_6 = ['1stFlrSF', '2ndFlrSF', 'LowQualFinSF', 'GrLivArea', 'BsmtFullBath', 'BsmtHalfBath', 'FullBath', 'HalfBath', 'BedroomAbvGr', 'KitchenAbvGr', 'KitchenQual', 'TotRmsAbvGrd', 'Functional']\n",
    "group_7 = ['GarageType', 'GarageYrBlt', 'GarageFinish', 'GarageCars', 'GarageArea', 'GarageQual', 'GarageCond', 'PavedDrive']\n",
    "group_8 = ['WoodDeckSF', 'OpenPorchSF', 'EnclosedPorch', '3SsnPorch', 'ScreenPorch', 'PoolArea', 'PoolQC', 'Fence', 'MiscFeature', 'MiscVal']\n",
    "group_9 = ['MoSold', 'YrSold', 'SaleType', 'SaleCondition']\n",
    "\n",
    "# 提取特征组\n",
    "train_group_1 = train[group_1]\n",
    "train_group_2 = train[group_2]\n",
    "train_group_3 = train[group_3]\n",
    "train_group_4 = train[group_4]\n",
    "train_group_5 = train[group_5]\n",
    "train_group_6 = train[group_6]\n",
    "train_group_7 = train[group_7]\n",
    "train_group_8 = train[group_8]\n",
    "train_group_9 = train[group_9]\n",
    "y = train['SalePrice']"
   ],
   "metadata": {
    "collapsed": false,
    "ExecuteTime": {
     "start_time": "2023-04-17T00:38:54.046685Z",
     "end_time": "2023-04-17T00:38:54.053090Z"
    }
   }
  },
  {
   "cell_type": "code",
   "execution_count": 4,
   "outputs": [
    {
     "name": "stdout",
     "output_type": "stream",
     "text": [
      "      MSSubClass MSZoning BldgType HouseStyle  OverallQual  OverallCond  YearBuilt  YearRemodAdd\n",
      "0             60       RL     1Fam     2Story            7            5       2003          2003\n",
      "1             20       RL     1Fam     1Story            6            8       1976          1976\n",
      "2             60       RL     1Fam     2Story            7            5       2001          2002\n",
      "3             70       RL     1Fam     2Story            7            5       1915          1970\n",
      "4             60       RL     1Fam     2Story            8            5       2000          2000\n",
      "...          ...      ...      ...        ...          ...          ...        ...           ...\n",
      "1455          60       RL     1Fam     2Story            6            5       1999          2000\n",
      "1456          20       RL     1Fam     1Story            6            6       1978          1988\n",
      "1457          70       RL     1Fam     2Story            7            9       1941          2006\n",
      "1458          20       RL     1Fam     1Story            5            6       1950          1996\n",
      "1459          20       RL     1Fam     1Story            5            6       1965          1965\n",
      "\n",
      "[1460 rows x 8 columns]\n",
      "<class 'pandas.core.frame.DataFrame'>\n",
      "RangeIndex: 1460 entries, 0 to 1459\n",
      "Data columns (total 8 columns):\n",
      " #   Column        Non-Null Count  Dtype \n",
      "---  ------        --------------  ----- \n",
      " 0   MSSubClass    1460 non-null   int64 \n",
      " 1   MSZoning      1460 non-null   object\n",
      " 2   BldgType      1460 non-null   object\n",
      " 3   HouseStyle    1460 non-null   object\n",
      " 4   OverallQual   1460 non-null   int64 \n",
      " 5   OverallCond   1460 non-null   int64 \n",
      " 6   YearBuilt     1460 non-null   int64 \n",
      " 7   YearRemodAdd  1460 non-null   int64 \n",
      "dtypes: int64(5), object(3)\n",
      "memory usage: 91.4+ KB\n",
      "None\n",
      "        MSSubClass  OverallQual  OverallCond    YearBuilt  YearRemodAdd\n",
      "count  1460.000000  1460.000000  1460.000000  1460.000000   1460.000000\n",
      "mean     56.897260     6.099315     5.575342  1971.267808   1984.865753\n",
      "std      42.300571     1.382997     1.112799    30.202904     20.645407\n",
      "min      20.000000     1.000000     1.000000  1872.000000   1950.000000\n",
      "25%      20.000000     5.000000     5.000000  1954.000000   1967.000000\n",
      "50%      50.000000     6.000000     5.000000  1973.000000   1994.000000\n",
      "75%      70.000000     7.000000     6.000000  2000.000000   2004.000000\n",
      "max     190.000000    10.000000     9.000000  2010.000000   2010.000000\n"
     ]
    }
   ],
   "source": [
    "# 对group1进行特征工程\n",
    "print(train_group_1)\n",
    "print(train_group_1.info())\n",
    "print(train_group_1.describe())"
   ],
   "metadata": {
    "collapsed": false,
    "ExecuteTime": {
     "start_time": "2023-04-17T00:38:54.055199Z",
     "end_time": "2023-04-17T00:38:54.116689Z"
    }
   }
  },
  {
   "cell_type": "code",
   "execution_count": 5,
   "outputs": [],
   "source": [
    "from sklearn.preprocessing import LabelEncoder\n",
    "from sklearn.model_selection import train_test_split\n",
    "from sklearn.linear_model import LinearRegression\n",
    "from sklearn.metrics import mean_squared_error\n",
    "from sklearn.preprocessing import MinMaxScaler"
   ],
   "metadata": {
    "collapsed": false,
    "ExecuteTime": {
     "start_time": "2023-04-17T00:38:54.077065Z",
     "end_time": "2023-04-17T00:38:54.471379Z"
    }
   }
  },
  {
   "cell_type": "code",
   "execution_count": 6,
   "outputs": [],
   "source": [
    "# 对object类型数据进行标签编码\n",
    "def encode_categorical_features(df):\n",
    "    for col in df.columns:\n",
    "        if df[col].dtype == 'object':\n",
    "            le = LabelEncoder()\n",
    "            df[col] = le.fit_transform(df[col].astype(str))\n",
    "    return df"
   ],
   "metadata": {
    "collapsed": false,
    "ExecuteTime": {
     "start_time": "2023-04-17T00:38:54.473454Z",
     "end_time": "2023-04-17T00:38:54.495275Z"
    }
   }
  },
  {
   "cell_type": "code",
   "execution_count": 7,
   "outputs": [
    {
     "name": "stdout",
     "output_type": "stream",
     "text": [
      "[[0.23529412 0.75       0.         ... 0.5        0.94927536 0.88333333]\n",
      " [0.         0.75       0.         ... 0.875      0.75362319 0.43333333]\n",
      " [0.23529412 0.75       0.         ... 0.5        0.93478261 0.86666667]\n",
      " ...\n",
      " [0.29411765 0.75       0.         ... 1.         0.5        0.93333333]\n",
      " [0.         0.75       0.         ... 0.625      0.56521739 0.76666667]\n",
      " [0.         0.75       0.         ... 0.625      0.67391304 0.25      ]]\n"
     ]
    }
   ],
   "source": [
    "# 对第一个特征组进行处理,并进行归一化处理,注意要同时对训练集和测试集进行工作\n",
    "train_group_1_encoded = encode_categorical_features(train_group_1)\n",
    "test[group_1] = encode_categorical_features(test[group_1])\n",
    "# 归一化处理\n",
    "scaler = MinMaxScaler()\n",
    "normalized_data1 = scaler.fit_transform(train_group_1_encoded)\n",
    "test[group_1] = scaler.fit_transform(test[group_1])\n",
    "print(normalized_data1)"
   ],
   "metadata": {
    "collapsed": false,
    "ExecuteTime": {
     "start_time": "2023-04-17T00:38:54.478875Z",
     "end_time": "2023-04-17T00:38:54.498856Z"
    }
   }
  },
  {
   "cell_type": "code",
   "execution_count": 8,
   "outputs": [
    {
     "name": "stdout",
     "output_type": "stream",
     "text": [
      "RMSE: 50374.46035512127\n"
     ]
    }
   ],
   "source": [
    "# 划分训练集和测试集\n",
    "X_train1, X_test1, y_train1, y_test1 = train_test_split(normalized_data1, y, test_size=0.2, random_state=42)\n",
    "# 创建线性回归模型实例\n",
    "ridge1 = LinearRegression()\n",
    "# 训练模型\n",
    "ridge1.fit(X_train1, y_train1)\n",
    "# 预测\n",
    "y_pred1 = ridge1.predict(X_test1)\n",
    "# 计算预测误差\n",
    "rmse1 = np.sqrt(mean_squared_error(y_test1, y_pred1))\n",
    "print(f\"RMSE: {rmse1}\")"
   ],
   "metadata": {
    "collapsed": false,
    "ExecuteTime": {
     "start_time": "2023-04-17T00:38:54.500893Z",
     "end_time": "2023-04-17T00:38:54.563016Z"
    }
   }
  },
  {
   "cell_type": "code",
   "execution_count": 9,
   "outputs": [],
   "source": [
    "from sklearn.ensemble import RandomForestRegressor"
   ],
   "metadata": {
    "collapsed": false,
    "ExecuteTime": {
     "start_time": "2023-04-17T00:38:54.525424Z",
     "end_time": "2023-04-17T00:38:54.693268Z"
    }
   }
  },
  {
   "cell_type": "code",
   "execution_count": 10,
   "outputs": [
    {
     "name": "stdout",
     "output_type": "stream",
     "text": [
      "      LotFrontage  LotArea Street Alley LotShape LandContour Utilities LotConfig LandSlope Neighborhood Condition1 Condition2\n",
      "0            65.0     8450   Pave   NaN      Reg         Lvl    AllPub    Inside       Gtl      CollgCr       Norm       Norm\n",
      "1            80.0     9600   Pave   NaN      Reg         Lvl    AllPub       FR2       Gtl      Veenker      Feedr       Norm\n",
      "2            68.0    11250   Pave   NaN      IR1         Lvl    AllPub    Inside       Gtl      CollgCr       Norm       Norm\n",
      "3            60.0     9550   Pave   NaN      IR1         Lvl    AllPub    Corner       Gtl      Crawfor       Norm       Norm\n",
      "4            84.0    14260   Pave   NaN      IR1         Lvl    AllPub       FR2       Gtl      NoRidge       Norm       Norm\n",
      "...           ...      ...    ...   ...      ...         ...       ...       ...       ...          ...        ...        ...\n",
      "1455         62.0     7917   Pave   NaN      Reg         Lvl    AllPub    Inside       Gtl      Gilbert       Norm       Norm\n",
      "1456         85.0    13175   Pave   NaN      Reg         Lvl    AllPub    Inside       Gtl       NWAmes       Norm       Norm\n",
      "1457         66.0     9042   Pave   NaN      Reg         Lvl    AllPub    Inside       Gtl      Crawfor       Norm       Norm\n",
      "1458         68.0     9717   Pave   NaN      Reg         Lvl    AllPub    Inside       Gtl        NAmes       Norm       Norm\n",
      "1459         75.0     9937   Pave   NaN      Reg         Lvl    AllPub    Inside       Gtl      Edwards       Norm       Norm\n",
      "\n",
      "[1460 rows x 12 columns]\n",
      "<class 'pandas.core.frame.DataFrame'>\n",
      "RangeIndex: 1460 entries, 0 to 1459\n",
      "Data columns (total 12 columns):\n",
      " #   Column        Non-Null Count  Dtype  \n",
      "---  ------        --------------  -----  \n",
      " 0   LotFrontage   1201 non-null   float64\n",
      " 1   LotArea       1460 non-null   int64  \n",
      " 2   Street        1460 non-null   object \n",
      " 3   Alley         91 non-null     object \n",
      " 4   LotShape      1460 non-null   object \n",
      " 5   LandContour   1460 non-null   object \n",
      " 6   Utilities     1460 non-null   object \n",
      " 7   LotConfig     1460 non-null   object \n",
      " 8   LandSlope     1460 non-null   object \n",
      " 9   Neighborhood  1460 non-null   object \n",
      " 10  Condition1    1460 non-null   object \n",
      " 11  Condition2    1460 non-null   object \n",
      "dtypes: float64(1), int64(1), object(10)\n",
      "memory usage: 137.0+ KB\n",
      "None\n",
      "       LotFrontage        LotArea\n",
      "count  1201.000000    1460.000000\n",
      "mean     70.049958   10516.828082\n",
      "std      24.284752    9981.264932\n",
      "min      21.000000    1300.000000\n",
      "25%      59.000000    7553.500000\n",
      "50%      69.000000    9478.500000\n",
      "75%      80.000000   11601.500000\n",
      "max     313.000000  215245.000000\n"
     ]
    }
   ],
   "source": [
    "# 对group2进行特征工程\n",
    "print(train_group_2)\n",
    "print(train_group_2.info())\n",
    "print(train_group_2.describe())"
   ],
   "metadata": {
    "collapsed": false,
    "ExecuteTime": {
     "start_time": "2023-04-17T00:38:54.681274Z",
     "end_time": "2023-04-17T00:38:54.723548Z"
    }
   }
  },
  {
   "cell_type": "code",
   "execution_count": 11,
   "outputs": [],
   "source": [
    "# 经过分析，可以将Alley的缺失值填充为0\n",
    "train_group_2['Alley'] = train_group_2['Alley'].fillna(0)\n",
    "test['Alley'] = test['Alley'].fillna(0)"
   ],
   "metadata": {
    "collapsed": false,
    "ExecuteTime": {
     "start_time": "2023-04-17T00:38:54.703686Z",
     "end_time": "2023-04-17T00:38:54.723548Z"
    }
   }
  },
  {
   "cell_type": "code",
   "execution_count": 13,
   "outputs": [
    {
     "ename": "ValueError",
     "evalue": "could not convert string to float: 'Gilbert'",
     "output_type": "error",
     "traceback": [
      "\u001B[1;31m---------------------------------------------------------------------------\u001B[0m",
      "\u001B[1;31mValueError\u001B[0m                                Traceback (most recent call last)",
      "Cell \u001B[1;32mIn[13], line 21\u001B[0m\n\u001B[0;32m     19\u001B[0m \u001B[38;5;66;03m# 使用模型预测缺失的LotFrontage值\u001B[39;00m\n\u001B[0;32m     20\u001B[0m predicted_train \u001B[38;5;241m=\u001B[39m rf\u001B[38;5;241m.\u001B[39mpredict(X_test)\n\u001B[1;32m---> 21\u001B[0m predicted_test \u001B[38;5;241m=\u001B[39m rf\u001B[38;5;241m.\u001B[39mpredict(t_test)\n\u001B[0;32m     22\u001B[0m \u001B[38;5;66;03m# 将预测的LotFrontage值填充回原始数据集\u001B[39;00m\n\u001B[0;32m     23\u001B[0m train\u001B[38;5;241m.\u001B[39mloc[train[\u001B[38;5;124m'\u001B[39m\u001B[38;5;124mLotFrontage\u001B[39m\u001B[38;5;124m'\u001B[39m]\u001B[38;5;241m.\u001B[39misnull(), \u001B[38;5;124m'\u001B[39m\u001B[38;5;124mLotFrontage\u001B[39m\u001B[38;5;124m'\u001B[39m] \u001B[38;5;241m=\u001B[39m predicted_train\n",
      "File \u001B[1;32m~\\anaconda3\\envs\\MachineLearning\\Lib\\site-packages\\sklearn\\ensemble\\_forest.py:981\u001B[0m, in \u001B[0;36mForestRegressor.predict\u001B[1;34m(self, X)\u001B[0m\n\u001B[0;32m    979\u001B[0m check_is_fitted(\u001B[38;5;28mself\u001B[39m)\n\u001B[0;32m    980\u001B[0m \u001B[38;5;66;03m# Check data\u001B[39;00m\n\u001B[1;32m--> 981\u001B[0m X \u001B[38;5;241m=\u001B[39m \u001B[38;5;28mself\u001B[39m\u001B[38;5;241m.\u001B[39m_validate_X_predict(X)\n\u001B[0;32m    983\u001B[0m \u001B[38;5;66;03m# Assign chunk of trees to jobs\u001B[39;00m\n\u001B[0;32m    984\u001B[0m n_jobs, _, _ \u001B[38;5;241m=\u001B[39m _partition_estimators(\u001B[38;5;28mself\u001B[39m\u001B[38;5;241m.\u001B[39mn_estimators, \u001B[38;5;28mself\u001B[39m\u001B[38;5;241m.\u001B[39mn_jobs)\n",
      "File \u001B[1;32m~\\anaconda3\\envs\\MachineLearning\\Lib\\site-packages\\sklearn\\ensemble\\_forest.py:602\u001B[0m, in \u001B[0;36mBaseForest._validate_X_predict\u001B[1;34m(self, X)\u001B[0m\n\u001B[0;32m    599\u001B[0m \u001B[38;5;124;03m\"\"\"\u001B[39;00m\n\u001B[0;32m    600\u001B[0m \u001B[38;5;124;03mValidate X whenever one tries to predict, apply, predict_proba.\"\"\"\u001B[39;00m\n\u001B[0;32m    601\u001B[0m check_is_fitted(\u001B[38;5;28mself\u001B[39m)\n\u001B[1;32m--> 602\u001B[0m X \u001B[38;5;241m=\u001B[39m \u001B[38;5;28mself\u001B[39m\u001B[38;5;241m.\u001B[39m_validate_data(X, dtype\u001B[38;5;241m=\u001B[39mDTYPE, accept_sparse\u001B[38;5;241m=\u001B[39m\u001B[38;5;124m\"\u001B[39m\u001B[38;5;124mcsr\u001B[39m\u001B[38;5;124m\"\u001B[39m, reset\u001B[38;5;241m=\u001B[39m\u001B[38;5;28;01mFalse\u001B[39;00m)\n\u001B[0;32m    603\u001B[0m \u001B[38;5;28;01mif\u001B[39;00m issparse(X) \u001B[38;5;129;01mand\u001B[39;00m (X\u001B[38;5;241m.\u001B[39mindices\u001B[38;5;241m.\u001B[39mdtype \u001B[38;5;241m!=\u001B[39m np\u001B[38;5;241m.\u001B[39mintc \u001B[38;5;129;01mor\u001B[39;00m X\u001B[38;5;241m.\u001B[39mindptr\u001B[38;5;241m.\u001B[39mdtype \u001B[38;5;241m!=\u001B[39m np\u001B[38;5;241m.\u001B[39mintc):\n\u001B[0;32m    604\u001B[0m     \u001B[38;5;28;01mraise\u001B[39;00m \u001B[38;5;167;01mValueError\u001B[39;00m(\u001B[38;5;124m\"\u001B[39m\u001B[38;5;124mNo support for np.int64 index based sparse matrices\u001B[39m\u001B[38;5;124m\"\u001B[39m)\n",
      "File \u001B[1;32m~\\anaconda3\\envs\\MachineLearning\\Lib\\site-packages\\sklearn\\base.py:565\u001B[0m, in \u001B[0;36mBaseEstimator._validate_data\u001B[1;34m(self, X, y, reset, validate_separately, **check_params)\u001B[0m\n\u001B[0;32m    563\u001B[0m     \u001B[38;5;28;01mraise\u001B[39;00m \u001B[38;5;167;01mValueError\u001B[39;00m(\u001B[38;5;124m\"\u001B[39m\u001B[38;5;124mValidation should be done on X, y or both.\u001B[39m\u001B[38;5;124m\"\u001B[39m)\n\u001B[0;32m    564\u001B[0m \u001B[38;5;28;01melif\u001B[39;00m \u001B[38;5;129;01mnot\u001B[39;00m no_val_X \u001B[38;5;129;01mand\u001B[39;00m no_val_y:\n\u001B[1;32m--> 565\u001B[0m     X \u001B[38;5;241m=\u001B[39m check_array(X, input_name\u001B[38;5;241m=\u001B[39m\u001B[38;5;124m\"\u001B[39m\u001B[38;5;124mX\u001B[39m\u001B[38;5;124m\"\u001B[39m, \u001B[38;5;241m*\u001B[39m\u001B[38;5;241m*\u001B[39mcheck_params)\n\u001B[0;32m    566\u001B[0m     out \u001B[38;5;241m=\u001B[39m X\n\u001B[0;32m    567\u001B[0m \u001B[38;5;28;01melif\u001B[39;00m no_val_X \u001B[38;5;129;01mand\u001B[39;00m \u001B[38;5;129;01mnot\u001B[39;00m no_val_y:\n",
      "File \u001B[1;32m~\\anaconda3\\envs\\MachineLearning\\Lib\\site-packages\\sklearn\\utils\\validation.py:879\u001B[0m, in \u001B[0;36mcheck_array\u001B[1;34m(array, accept_sparse, accept_large_sparse, dtype, order, copy, force_all_finite, ensure_2d, allow_nd, ensure_min_samples, ensure_min_features, estimator, input_name)\u001B[0m\n\u001B[0;32m    877\u001B[0m         array \u001B[38;5;241m=\u001B[39m xp\u001B[38;5;241m.\u001B[39mastype(array, dtype, copy\u001B[38;5;241m=\u001B[39m\u001B[38;5;28;01mFalse\u001B[39;00m)\n\u001B[0;32m    878\u001B[0m     \u001B[38;5;28;01melse\u001B[39;00m:\n\u001B[1;32m--> 879\u001B[0m         array \u001B[38;5;241m=\u001B[39m _asarray_with_order(array, order\u001B[38;5;241m=\u001B[39morder, dtype\u001B[38;5;241m=\u001B[39mdtype, xp\u001B[38;5;241m=\u001B[39mxp)\n\u001B[0;32m    880\u001B[0m \u001B[38;5;28;01mexcept\u001B[39;00m ComplexWarning \u001B[38;5;28;01mas\u001B[39;00m complex_warning:\n\u001B[0;32m    881\u001B[0m     \u001B[38;5;28;01mraise\u001B[39;00m \u001B[38;5;167;01mValueError\u001B[39;00m(\n\u001B[0;32m    882\u001B[0m         \u001B[38;5;124m\"\u001B[39m\u001B[38;5;124mComplex data not supported\u001B[39m\u001B[38;5;130;01m\\n\u001B[39;00m\u001B[38;5;132;01m{}\u001B[39;00m\u001B[38;5;130;01m\\n\u001B[39;00m\u001B[38;5;124m\"\u001B[39m\u001B[38;5;241m.\u001B[39mformat(array)\n\u001B[0;32m    883\u001B[0m     ) \u001B[38;5;28;01mfrom\u001B[39;00m \u001B[38;5;21;01mcomplex_warning\u001B[39;00m\n",
      "File \u001B[1;32m~\\anaconda3\\envs\\MachineLearning\\Lib\\site-packages\\sklearn\\utils\\_array_api.py:185\u001B[0m, in \u001B[0;36m_asarray_with_order\u001B[1;34m(array, dtype, order, copy, xp)\u001B[0m\n\u001B[0;32m    182\u001B[0m     xp, _ \u001B[38;5;241m=\u001B[39m get_namespace(array)\n\u001B[0;32m    183\u001B[0m \u001B[38;5;28;01mif\u001B[39;00m xp\u001B[38;5;241m.\u001B[39m\u001B[38;5;18m__name__\u001B[39m \u001B[38;5;129;01min\u001B[39;00m {\u001B[38;5;124m\"\u001B[39m\u001B[38;5;124mnumpy\u001B[39m\u001B[38;5;124m\"\u001B[39m, \u001B[38;5;124m\"\u001B[39m\u001B[38;5;124mnumpy.array_api\u001B[39m\u001B[38;5;124m\"\u001B[39m}:\n\u001B[0;32m    184\u001B[0m     \u001B[38;5;66;03m# Use NumPy API to support order\u001B[39;00m\n\u001B[1;32m--> 185\u001B[0m     array \u001B[38;5;241m=\u001B[39m numpy\u001B[38;5;241m.\u001B[39masarray(array, order\u001B[38;5;241m=\u001B[39morder, dtype\u001B[38;5;241m=\u001B[39mdtype)\n\u001B[0;32m    186\u001B[0m     \u001B[38;5;28;01mreturn\u001B[39;00m xp\u001B[38;5;241m.\u001B[39masarray(array, copy\u001B[38;5;241m=\u001B[39mcopy)\n\u001B[0;32m    187\u001B[0m \u001B[38;5;28;01melse\u001B[39;00m:\n",
      "File \u001B[1;32m~\\anaconda3\\envs\\MachineLearning\\Lib\\site-packages\\pandas\\core\\generic.py:2070\u001B[0m, in \u001B[0;36mNDFrame.__array__\u001B[1;34m(self, dtype)\u001B[0m\n\u001B[0;32m   2069\u001B[0m \u001B[38;5;28;01mdef\u001B[39;00m \u001B[38;5;21m__array__\u001B[39m(\u001B[38;5;28mself\u001B[39m, dtype: npt\u001B[38;5;241m.\u001B[39mDTypeLike \u001B[38;5;241m|\u001B[39m \u001B[38;5;28;01mNone\u001B[39;00m \u001B[38;5;241m=\u001B[39m \u001B[38;5;28;01mNone\u001B[39;00m) \u001B[38;5;241m-\u001B[39m\u001B[38;5;241m>\u001B[39m np\u001B[38;5;241m.\u001B[39mndarray:\n\u001B[1;32m-> 2070\u001B[0m     \u001B[38;5;28;01mreturn\u001B[39;00m np\u001B[38;5;241m.\u001B[39masarray(\u001B[38;5;28mself\u001B[39m\u001B[38;5;241m.\u001B[39m_values, dtype\u001B[38;5;241m=\u001B[39mdtype)\n",
      "\u001B[1;31mValueError\u001B[0m: could not convert string to float: 'Gilbert'"
     ]
    }
   ],
   "source": [
    "train_group_2_encoded = encode_categorical_features(train_group_2)\n",
    "# 首先，我们将数据集分为有LotFrontage值的部分和缺少LotFrontage值的部分\n",
    "data_with_lotfrontage = train_group_2_encoded[train_group_2_encoded['LotFrontage'].notnull()]\n",
    "data_missing_lotfrontage = train_group_2_encoded[train_group_2['LotFrontage'].isnull()]\n",
    "\n",
    "# 选择用于预测LotFrontage的其他特征（这里我们选择与LotFrontage相关的特征）\n",
    "features = ['LotArea', 'Neighborhood','LotConfig','LotShape']\n",
    "# 获取训练和测试数据\n",
    "X_train = data_with_lotfrontage[features]\n",
    "y_train = data_with_lotfrontage['LotFrontage']\n",
    "X_test = train_group_2_encoded[train_group_2['LotFrontage'].isnull()][features]\n",
    "t_test = test[test['LotFrontage'].isnull()][features]\n",
    "# 创建随机森林回归模型实例\n",
    "rf = RandomForestRegressor(n_estimators=100, random_state=42)\n",
    "\n",
    "# 训练模型\n",
    "rf.fit(X_train, y_train)\n",
    "\n",
    "# 使用模型预测缺失的LotFrontage值\n",
    "predicted_train = rf.predict(X_test)\n",
    "predicted_test = rf.predict(t_test)\n",
    "# 将预测的LotFrontage值填充回原始数据集\n",
    "train.loc[train['LotFrontage'].isnull(), 'LotFrontage'] = predicted_train\n",
    "test.loc[test['LotFrontage'].isnull(), 'LotFrontage'] = predicted_test\n"
   ],
   "metadata": {
    "collapsed": false,
    "ExecuteTime": {
     "start_time": "2023-04-17T00:38:57.318336Z",
     "end_time": "2023-04-17T00:39:54.210608Z"
    }
   }
  },
  {
   "cell_type": "code",
   "execution_count": null,
   "outputs": [],
   "source": [
    "# 对第一个特征组进行处理,并进行归一化处理\n",
    "\n",
    "# # 归一化处理\n",
    "# normalized_data2 = scaler.fit_transform(train_group_2_encoded)\n",
    "# normalized_data2 = pd.DataFrame(normalized_data2)\n",
    "# print(normalized_data2)\n",
    "# print(train_group_2_encoded)"
   ],
   "metadata": {
    "collapsed": false,
    "ExecuteTime": {
     "start_time": "2023-04-16T11:11:19.215297Z",
     "end_time": "2023-04-16T11:11:19.218316Z"
    }
   }
  }
 ],
 "metadata": {
  "kernelspec": {
   "display_name": "Python 3",
   "language": "python",
   "name": "python3"
  },
  "language_info": {
   "codemirror_mode": {
    "name": "ipython",
    "version": 2
   },
   "file_extension": ".py",
   "mimetype": "text/x-python",
   "name": "python",
   "nbconvert_exporter": "python",
   "pygments_lexer": "ipython2",
   "version": "2.7.6"
  }
 },
 "nbformat": 4,
 "nbformat_minor": 0
}
