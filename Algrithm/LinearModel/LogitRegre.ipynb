{
 "cells": [
  {
   "cell_type": "markdown",
   "source": [
    "# Logit Regression"
   ],
   "metadata": {
    "collapsed": false
   }
  },
  {
   "cell_type": "markdown",
   "source": [
    "### $\\mathtt Logistic$ 回归正常工作的要求\n",
    "该模型适用于所有数据集，但是，如果您需要*良好的性能*，则需要考虑一些假设，\n",
    "\n",
    "1. 二元逻辑回归中的因变量必须是二元的。\n",
    "\n",
    "2. 只应包括相关的变量。\n",
    "\n",
    "3. 自变量必须彼此无关。也就是说，模型中的多重共线性应该很小或没有。\n",
    "\n",
    "4. 对数几率与自变量成正比。\n",
    "\n",
    "5. 逻辑回归需要大样本量。"
   ],
   "metadata": {
    "collapsed": false
   }
  },
  {
   "cell_type": "markdown",
   "source": [
    "### 决策边界 - $\\mathtt Logistic$ 回归\n",
    "可以建立一个阈值来预测数据属于哪个类。导出的估计概率基于该阈值被分类成类。\n",
    "\n",
    "如果预测值小于 0.5，则将特定学生归类为通过；否则，将其标记为失败。有两种类型的决策边界：线性和非线性。为了提供复杂的决策边界，可以提高多项式阶数。"
   ],
   "metadata": {
    "collapsed": false
   }
  },
  {
   "cell_type": "markdown",
   "source": [
    "### 成本函数 - 线性回归与逻辑回归\n",
    "线性回归使用最小二乘误差作为损失函数，这会产生一个凸网络，然后我们可以通过将顶点识别为全局最小值来优化它。然而，对于逻辑回归，它不再是可能的。由于假设已被修改，因此在原始模型输出上使用 sigmoid 函数计算最小二乘误差将导致具有局部最小值的非凸图。\n",
    "\n",
    "什么是成本函数？机器学习中使用成本函数来估计模型的性能有多差。简单地说，成本函数是衡量模型在估计 X 和 y 之间的联系方面有多不准确的度量。这通常表示为预期值和实际值之间的差异或分离。**机器学习模型的目标是发现参数、权重或最小化成本函数的结构。**\n",
    "\n",
    "凸函数表示曲线上任意两点之间不会有交点，但非凸函数至少会有一个交点。在成本函数方面，凸类型总是保证全局最小值，而非凸类型仅保证局部最小值。"
   ],
   "metadata": {
    "collapsed": false
   }
  },
  {
   "cell_type": "markdown",
   "source": [
    "以下我们将使用Breast　Canser　Wisconsin（Diagnostic）来进行逻辑回归模型的训练与测试，同时有可能只是调用\n",
    "ＳＫlearn的的包来进行训练"
   ],
   "metadata": {
    "collapsed": false
   }
  },
  {
   "cell_type": "markdown",
   "source": [
    "首先是导入库"
   ],
   "metadata": {
    "collapsed": false
   }
  },
  {
   "cell_type": "code",
   "execution_count": null,
   "outputs": [],
   "source": [
    "import numpy as np\n",
    "import matplotlib.pyplot as plt\n",
    "import pandas as pd\n",
    "import seaborn as sns\n",
    "%matplotlib inline"
   ],
   "metadata": {
    "collapsed": false
   }
  },
  {
   "cell_type": "markdown",
   "source": [
    "接着导入数据"
   ],
   "metadata": {
    "collapsed": false
   }
  },
  {
   "cell_type": "code",
   "execution_count": null,
   "outputs": [],
   "source": [
    "dataset = pd.read_csv('data.csv')\n",
    "print(dataset)"
   ],
   "metadata": {
    "collapsed": false
   }
  },
  {
   "cell_type": "markdown",
   "source": [
    "首先是数据的预处理，我们通过读取Kaggle文档解释可以理解数据的各项特征\n",
    "不难发现，第一列为无用的样本需要进行删除，第二列是label，第三列到第３２列是所有的属性。\n",
    "这是一个简单的二分类问题。我们只是采用他们的前三列数据进行训练，看看效果怎么样。"
   ],
   "metadata": {
    "collapsed": false
   }
  },
  {
   "cell_type": "code",
   "execution_count": null,
   "outputs": [],
   "source": [
    "label = dataset['diagnosis']\n",
    "dataset = dataset.filter(items=['radius_mean','texture_mean','perimeter_mean'])\n",
    "print(label,'\\n',dataset)"
   ],
   "metadata": {
    "collapsed": false
   }
  },
  {
   "cell_type": "markdown",
   "source": [
    "在这里划分训练集和测试集"
   ],
   "metadata": {
    "collapsed": false
   }
  },
  {
   "cell_type": "code",
   "execution_count": null,
   "outputs": [],
   "source": [
    "y_train = label.sample(n=int(569*0.7), random_state=1)\n",
    "y_test = dataset.drop(y_train.index)\n",
    "x_train = dataset.sample(n=int(569*0.7), random_state=1)\n",
    "x_test = dataset.drop(x_train.index)"
   ],
   "metadata": {
    "collapsed": false
   }
  },
  {
   "cell_type": "markdown",
   "source": [
    "接着划分训练集和验证集"
   ],
   "metadata": {
    "collapsed": false
   }
  },
  {
   "cell_type": "code",
   "execution_count": null,
   "outputs": [],
   "source": [
    "from sklearn.model_selection import cross_val_score\n",
    "from sklearn.linear_model import LogisticRegression\n",
    "from sklearn.metrics import precision_score, recall_score"
   ],
   "metadata": {
    "collapsed": false
   }
  },
  {
   "cell_type": "code",
   "execution_count": null,
   "outputs": [],
   "source": [
    "model = LogisticRegression()\n",
    "recall_scores = cross_val_score(model, x_train, y_train, cv=10, scoring='recall_macro')\n",
    "precision_scores = cross_val_score(model, x_train, y_train, cv=10,scoring='precision_macro')"
   ],
   "metadata": {
    "collapsed": false
   }
  },
  {
   "cell_type": "code",
   "execution_count": null,
   "outputs": [],
   "source": [
    "print(\"Recall scores: {}\".format(recall_scores))\n",
    "print(\"Average recall score: {}\".format(recall_scores.mean()))\n",
    "print(\"Precision scores: {}\".format(precision_scores))\n",
    "print(\"Average precision score: {}\".format(precision_scores.mean()))"
   ],
   "metadata": {
    "collapsed": false
   }
  }
 ],
 "metadata": {
  "kernelspec": {
   "display_name": "Python 3",
   "language": "python",
   "name": "python3"
  },
  "language_info": {
   "codemirror_mode": {
    "name": "ipython",
    "version": 2
   },
   "file_extension": ".py",
   "mimetype": "text/x-python",
   "name": "python",
   "nbconvert_exporter": "python",
   "pygments_lexer": "ipython2",
   "version": "2.7.6"
  }
 },
 "nbformat": 4,
 "nbformat_minor": 0
}
