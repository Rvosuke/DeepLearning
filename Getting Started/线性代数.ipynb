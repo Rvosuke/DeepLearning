{
 "cells": [
  {
   "cell_type": "markdown",
   "source": [
    "# 从零开始线性回归"
   ],
   "metadata": {
    "collapsed": false
   }
  },
  {
   "cell_type": "code",
   "execution_count": 11,
   "outputs": [],
   "source": [
    "import torch\n",
    "from torch import nn, optim\n",
    "from torch.utils import data\n",
    "from d2l import torch as d2l"
   ],
   "metadata": {
    "collapsed": false,
    "ExecuteTime": {
     "start_time": "2023-04-20T01:31:31.367758Z",
     "end_time": "2023-04-20T01:31:31.420817Z"
    }
   }
  },
  {
   "cell_type": "code",
   "execution_count": 12,
   "outputs": [],
   "source": [
    "# 生成数据集\n",
    "true_w = torch.tensor([2, -3.4])\n",
    "true_b = 4.2\n",
    "features, labels = d2l.synthetic_data(true_w, true_b, 1000)"
   ],
   "metadata": {
    "collapsed": false,
    "ExecuteTime": {
     "start_time": "2023-04-20T01:31:31.387946Z",
     "end_time": "2023-04-20T01:31:31.420817Z"
    }
   }
  },
  {
   "cell_type": "code",
   "execution_count": 13,
   "outputs": [],
   "source": [
    "def load_array(data_arrays, batch_size, is_train=True):\n",
    "    \"\"\"构造一个PyTorch数据迭代器\"\"\"\n",
    "    dataset = data.TensorDataset(*data_arrays) # 将特征和标签组合,*表示将data_arrays中的元素分别作为参数传入\n",
    "    return data.DataLoader(dataset, batch_size, shuffle=is_train) # 构造一个PyTorch数据迭代器"
   ],
   "metadata": {
    "collapsed": false,
    "ExecuteTime": {
     "start_time": "2023-04-20T01:31:31.402254Z",
     "end_time": "2023-04-20T01:31:31.421842Z"
    }
   }
  },
  {
   "cell_type": "code",
   "execution_count": 14,
   "outputs": [],
   "source": [
    "batch_size = 10\n",
    "data_iter = load_array((features, labels), batch_size)"
   ],
   "metadata": {
    "collapsed": false,
    "ExecuteTime": {
     "start_time": "2023-04-20T01:31:31.417694Z",
     "end_time": "2023-04-20T01:31:31.442123Z"
    }
   }
  },
  {
   "cell_type": "code",
   "execution_count": 21,
   "outputs": [
    {
     "ename": "TypeError",
     "evalue": "'DataLoader' object is not an iterator",
     "output_type": "error",
     "traceback": [
      "\u001B[1;31m---------------------------------------------------------------------------\u001B[0m",
      "\u001B[1;31mTypeError\u001B[0m                                 Traceback (most recent call last)",
      "Cell \u001B[1;32mIn[21], line 1\u001B[0m\n\u001B[1;32m----> 1\u001B[0m \u001B[38;5;28;43mnext\u001B[39;49m\u001B[43m(\u001B[49m\u001B[43mdata_iter\u001B[49m\u001B[43m)\u001B[49m \u001B[38;5;66;03m# iter()函数用来生成迭代器，next()函数用来获取迭代器的下一个元素\u001B[39;00m\n",
      "\u001B[1;31mTypeError\u001B[0m: 'DataLoader' object is not an iterator"
     ]
    }
   ],
   "source": [
    "next(iter(data_iter)) # iter()函数用来生成迭代器，next()函数用来获取迭代器的下一个元素"
   ],
   "metadata": {
    "collapsed": false,
    "ExecuteTime": {
     "start_time": "2023-04-20T01:31:31.433413Z",
     "end_time": "2023-04-20T01:31:31.487778Z"
    }
   }
  },
  {
   "cell_type": "markdown",
   "source": [
    "这个代码示例主要用于构造一个PyTorch数据迭代器，用于批量处理数据。我们逐步解释这个代码示例中的各个部分：\n",
    "\n",
    "load_array函数接受三个参数：data_arrays（包含特征和标签的元组）、batch_size（批处理大小）和is_train（一个布尔值，表示是否需要在训练时打乱数据顺序）。\n",
    "\n",
    "函数中首先使用torch.utils.data.TensorDataset类将特征和标签组合成一个数据集对象。*data_arrays表示将data_arrays中的元素分别作为参数传入。\n",
    "\n",
    "接下来，使用torch.utils.data.DataLoader类创建一个数据迭代器。DataLoader类会将数据集对象、批处理大小和是否打乱数据顺序作为参数。DataLoader对象本身并不是一个迭代器，而是一个可迭代对象，可以用来生成迭代器。\n",
    "\n",
    "batch_size = 10定义了每个批次的大小。\n",
    "\n",
    "data_iter = load_array((features, labels), batch_size)调用load_array函数，创建一个DataLoader对象。这个对象可以生成批量数据迭代器。\n",
    "\n",
    "next(iter(data_iter))这一行代码的目的是获取批量数据迭代器的下一个元素（一个批次的数据）。首先，iter(data_iter)调用了DataLoader对象的__iter__()方法，创建了一个新的迭代器。然后，next()函数从该迭代器中获取下一个元素。实际上，你可以在for循环中直接使用DataLoader对象，因为它是一个可迭代对象。这里使用next(iter(data_iter))只是为了展示如何手动获取一个批次的数据。\n",
    "\n",
    "总结一下，这段代码的主要目的是创建一个PyTorch数据迭代器，用于批量处理数据。DataLoader对象本身不是一个迭代器，而是一个可迭代对象。当你需要访问数据迭代器的下一个元素时，可以通过调用iter()函数生成一个新的迭代器，然后使用next()函数获取下一个元素。在实际应用中，你通常会在for循环中直接使用DataLoader对象。"
   ],
   "metadata": {
    "collapsed": false
   }
  },
  {
   "cell_type": "code",
   "execution_count": 16,
   "outputs": [],
   "source": [
    "# 定义模型\n",
    "net = nn.Sequential(nn.Linear(2, 1)) # nn.Linear()函数用来构造一个全连接层，2表示输入的特征数，1表示输出的特征数"
   ],
   "metadata": {
    "collapsed": false,
    "ExecuteTime": {
     "start_time": "2023-04-20T01:31:31.463881Z",
     "end_time": "2023-04-20T01:31:31.489793Z"
    }
   }
  },
  {
   "cell_type": "code",
   "execution_count": 17,
   "outputs": [
    {
     "data": {
      "text/plain": "tensor([0.])"
     },
     "execution_count": 17,
     "metadata": {},
     "output_type": "execute_result"
    }
   ],
   "source": [
    "net[0].weight.data.normal_(0, 0.01) # 初始化模型参数\n",
    "net[0].bias.data.fill_(0)"
   ],
   "metadata": {
    "collapsed": false,
    "ExecuteTime": {
     "start_time": "2023-04-20T01:31:31.480016Z",
     "end_time": "2023-04-20T01:31:31.549703Z"
    }
   }
  },
  {
   "cell_type": "code",
   "execution_count": 18,
   "outputs": [],
   "source": [
    "loss = nn.MSELoss() # nn.MSELoss()函数用来构造一个均方误差损失函数"
   ],
   "metadata": {
    "collapsed": false,
    "ExecuteTime": {
     "start_time": "2023-04-20T01:31:31.492894Z",
     "end_time": "2023-04-20T01:31:31.566645Z"
    }
   }
  },
  {
   "cell_type": "code",
   "execution_count": 19,
   "outputs": [],
   "source": [
    "trainer = optim.SGD(net.parameters(), lr=0.03) # optim.SGD()函数用来构造一个随机梯度下降优化器"
   ],
   "metadata": {
    "collapsed": false,
    "ExecuteTime": {
     "start_time": "2023-04-20T01:31:31.509121Z",
     "end_time": "2023-04-20T01:31:31.566645Z"
    }
   }
  },
  {
   "cell_type": "code",
   "execution_count": 20,
   "outputs": [
    {
     "name": "stdout",
     "output_type": "stream",
     "text": [
      "epoch 1, loss 0.000253\n",
      "epoch 2, loss 0.000105\n",
      "epoch 3, loss 0.000105\n"
     ]
    }
   ],
   "source": [
    "# 训练模型\n",
    "num_epochs = 3\n",
    "for epoch in range(num_epochs):\n",
    "    for X, y in data_iter:\n",
    "        l = loss(net(X), y) # 计算损失\n",
    "        trainer.zero_grad() # 梯度清零\n",
    "        l.backward() # 反向传播\n",
    "        trainer.step() # 迭代模型参数\n",
    "    l = loss(net(features), labels)\n",
    "    print(f'epoch {epoch + 1}, loss {l:f}')"
   ],
   "metadata": {
    "collapsed": false,
    "ExecuteTime": {
     "start_time": "2023-04-20T01:31:31.525902Z",
     "end_time": "2023-04-20T01:31:31.671901Z"
    }
   }
  }
 ],
 "metadata": {
  "kernelspec": {
   "display_name": "Python 3",
   "language": "python",
   "name": "python3"
  },
  "language_info": {
   "codemirror_mode": {
    "name": "ipython",
    "version": 2
   },
   "file_extension": ".py",
   "mimetype": "text/x-python",
   "name": "python",
   "nbconvert_exporter": "python",
   "pygments_lexer": "ipython2",
   "version": "2.7.6"
  }
 },
 "nbformat": 4,
 "nbformat_minor": 0
}
