{
 "metadata": {
  "kernelspec": {
   "language": "python",
   "display_name": "Python 3",
   "name": "python3"
  },
  "language_info": {
   "pygments_lexer": "ipython3",
   "nbconvert_exporter": "python",
   "version": "3.6.4",
   "file_extension": ".py",
   "codemirror_mode": {
    "name": "ipython",
    "version": 3
   },
   "name": "python",
   "mimetype": "text/x-python"
  },
  "kaggle": {
   "accelerator": "gpu",
   "dataSources": [],
   "dockerImageVersionId": 30559,
   "isInternetEnabled": true,
   "language": "python",
   "sourceType": "notebook",
   "isGpuEnabled": true
  }
 },
 "nbformat_minor": 4,
 "nbformat": 4,
 "cells": [
  {
   "cell_type": "code",
   "source": [
    "import warnings\n",
    "warnings.filterwarnings('ignore')\n",
    "\n",
    "import numpy as np\n",
    "import torch\n",
    "import torch.nn as nn\n",
    "from tqdm.notebook import  tqdm\n",
    "import torch.nn.functional as F\n",
    "from torch.utils.data import DataLoader, Dataset, TensorDataset\n",
    "from sklearn.model_selection import train_test_split\n",
    "import torchvision\n",
    "import matplotlib.pyplot as plt\n",
    "from IPython import display\n",
    "\n",
    "import matplotlib_inline\n",
    "matplotlib_inline.backend_inline.set_matplotlib_formats(\"svg\")"
   ],
   "metadata": {
    "execution": {
     "iopub.status.busy": "2023-10-15T09:40:36.732097Z",
     "iopub.execute_input": "2023-10-15T09:40:36.732799Z",
     "iopub.status.idle": "2023-10-15T09:40:36.738429Z",
     "shell.execute_reply.started": "2023-10-15T09:40:36.732766Z",
     "shell.execute_reply": "2023-10-15T09:40:36.737488Z"
    },
    "trusted": true,
    "ExecuteTime": {
     "end_time": "2023-11-17T09:17:06.574788Z",
     "start_time": "2023-11-17T09:17:04.300736500Z"
    }
   },
   "execution_count": 1,
   "outputs": []
  },
  {
   "cell_type": "code",
   "source": [
    "device = \"cuda:0\" if torch.cuda.is_available() else \"cpu\""
   ],
   "metadata": {
    "collapsed": false,
    "execution": {
     "iopub.status.busy": "2023-10-15T09:25:32.224468Z",
     "iopub.execute_input": "2023-10-15T09:25:32.224846Z",
     "iopub.status.idle": "2023-10-15T09:25:32.250438Z",
     "shell.execute_reply.started": "2023-10-15T09:25:32.224823Z",
     "shell.execute_reply": "2023-10-15T09:25:32.249475Z"
    },
    "trusted": true,
    "ExecuteTime": {
     "end_time": "2023-11-17T09:17:06.604953500Z",
     "start_time": "2023-11-17T09:17:06.571789100Z"
    }
   },
   "execution_count": 2,
   "outputs": []
  },
  {
   "cell_type": "markdown",
   "source": [
    "### Import and Inspect the Dataset"
   ],
   "metadata": {}
  },
  {
   "cell_type": "code",
   "source": [
    "cdata = torchvision.datasets.EMNIST(root=\"../MNIST/MNIST_Data\", split=\"letters\", download=True)"
   ],
   "metadata": {
    "collapsed": false,
    "execution": {
     "iopub.status.busy": "2023-10-15T09:25:32.251735Z",
     "iopub.execute_input": "2023-10-15T09:25:32.252375Z",
     "iopub.status.idle": "2023-10-15T09:26:00.674997Z",
     "shell.execute_reply.started": "2023-10-15T09:25:32.252341Z",
     "shell.execute_reply": "2023-10-15T09:26:00.673595Z"
    },
    "trusted": true,
    "is_executing": true,
    "ExecuteTime": {
     "start_time": "2023-11-17T09:18:04.979416700Z"
    }
   },
   "execution_count": null,
   "outputs": []
  },
  {
   "cell_type": "code",
   "source": [
    "print(f\"All classes: {cdata.classes}\")\n",
    "print(f\"Data size: {cdata.data.shape}\")\n",
    "\n",
    "# Transforming to 4D tensor for conv layers\n",
    "images = cdata.data.view([124800, 1, 28, 28]).float()\n",
    "print(f\"Tensor shape: {images.shape}\")"
   ],
   "metadata": {
    "collapsed": false,
    "execution": {
     "iopub.status.busy": "2023-10-15T09:26:00.677586Z",
     "iopub.execute_input": "2023-10-15T09:26:00.67815Z",
     "iopub.status.idle": "2023-10-15T09:26:00.976959Z",
     "shell.execute_reply.started": "2023-10-15T09:26:00.678116Z",
     "shell.execute_reply": "2023-10-15T09:26:00.976009Z"
    },
    "trusted": true,
    "ExecuteTime": {
     "end_time": "2023-11-17T09:17:21.583079100Z",
     "start_time": "2023-11-17T09:17:21.580080Z"
    }
   },
   "execution_count": null,
   "outputs": []
  },
  {
   "cell_type": "code",
   "source": [
    "torch.sum(cdata.targets == 0), len(torch.unique(cdata.targets))"
   ],
   "metadata": {
    "collapsed": false,
    "execution": {
     "iopub.status.busy": "2023-10-15T09:26:00.978215Z",
     "iopub.execute_input": "2023-10-15T09:26:00.979097Z",
     "iopub.status.idle": "2023-10-15T09:26:02.58104Z",
     "shell.execute_reply.started": "2023-10-15T09:26:00.979061Z",
     "shell.execute_reply": "2023-10-15T09:26:02.579894Z"
    },
    "trusted": true,
    "ExecuteTime": {
     "start_time": "2023-11-17T09:17:21.581079600Z"
    }
   },
   "execution_count": null,
   "outputs": []
  },
  {
   "cell_type": "code",
   "source": [
    "cdata.class_to_idx"
   ],
   "metadata": {
    "collapsed": false,
    "execution": {
     "iopub.status.busy": "2023-10-15T09:26:02.584896Z",
     "iopub.execute_input": "2023-10-15T09:26:02.586405Z",
     "iopub.status.idle": "2023-10-15T09:26:02.60006Z",
     "shell.execute_reply.started": "2023-10-15T09:26:02.586362Z",
     "shell.execute_reply": "2023-10-15T09:26:02.598946Z"
    },
    "trusted": true,
    "ExecuteTime": {
     "start_time": "2023-11-17T09:17:21.582079Z"
    }
   },
   "execution_count": null,
   "outputs": []
  },
  {
   "cell_type": "code",
   "source": [
    "import copy\n",
    "\n",
    "letterCategories = cdata.classes[1:]\n",
    "labels = copy.deepcopy(cdata.targets) - 1\n",
    "print(labels.shape)\n",
    "print(torch.sum(labels == 0))"
   ],
   "metadata": {
    "collapsed": false,
    "execution": {
     "iopub.status.busy": "2023-10-15T09:26:02.604027Z",
     "iopub.execute_input": "2023-10-15T09:26:02.605082Z",
     "iopub.status.idle": "2023-10-15T09:26:02.628811Z",
     "shell.execute_reply.started": "2023-10-15T09:26:02.605042Z",
     "shell.execute_reply": "2023-10-15T09:26:02.627801Z"
    },
    "trusted": true,
    "ExecuteTime": {
     "start_time": "2023-11-17T09:17:21.585079900Z"
    }
   },
   "execution_count": null,
   "outputs": []
  },
  {
   "cell_type": "code",
   "source": [
    "# Before normalizing\n",
    "plt.hist(images[:10, :, :, :].view(1, -1).detach(), 40)\n",
    "plt.title(\"Raw Values\")\n",
    "plt.show()\n",
    "\n",
    "# Normalize\n",
    "images /= torch.max(images)\n",
    "\n",
    "# After normalizing\n",
    "plt.hist(images[:10, :, :, :].view(1, -1).detach(), 40)\n",
    "plt.title(\"Normalized Values\")\n",
    "plt.show()"
   ],
   "metadata": {
    "collapsed": false,
    "execution": {
     "iopub.status.busy": "2023-10-15T09:26:02.631573Z",
     "iopub.execute_input": "2023-10-15T09:26:02.631935Z",
     "iopub.status.idle": "2023-10-15T09:26:03.520509Z",
     "shell.execute_reply.started": "2023-10-15T09:26:02.631903Z",
     "shell.execute_reply": "2023-10-15T09:26:03.519646Z"
    },
    "trusted": true,
    "ExecuteTime": {
     "start_time": "2023-11-17T09:17:21.587078900Z"
    }
   },
   "execution_count": null,
   "outputs": []
  },
  {
   "cell_type": "markdown",
   "source": [
    "### Visualize images"
   ],
   "metadata": {}
  },
  {
   "cell_type": "code",
   "source": [
    "labels[100].item()"
   ],
   "metadata": {
    "collapsed": false,
    "execution": {
     "iopub.status.busy": "2023-10-15T09:26:03.52212Z",
     "iopub.execute_input": "2023-10-15T09:26:03.522805Z",
     "iopub.status.idle": "2023-10-15T09:26:03.53305Z",
     "shell.execute_reply.started": "2023-10-15T09:26:03.522763Z",
     "shell.execute_reply": "2023-10-15T09:26:03.531666Z"
    },
    "trusted": true,
    "ExecuteTime": {
     "start_time": "2023-11-17T09:17:21.588080Z"
    }
   },
   "execution_count": null,
   "outputs": []
  },
  {
   "cell_type": "code",
   "source": [
    "fig, axes = plt.subplots(3, 7, figsize=(13, 6))\n",
    "\n",
    "for i , ax in enumerate(axes.flatten()):\n",
    "    which_pic = np.random.randint(images.shape[0])\n",
    "\n",
    "    image = images[which_pic, 0, :, :].detach()\n",
    "    letter = letterCategories[labels[which_pic]]\n",
    "\n",
    "    ax.imshow(image.T, cmap='gray')\n",
    "    ax.set_title(f\"Letter: {letter}\")\n",
    "    ax.set_xticks([])\n",
    "    ax.set_yticks([])\n",
    "plt.show()"
   ],
   "metadata": {
    "collapsed": false,
    "execution": {
     "iopub.status.busy": "2023-10-15T09:26:03.536655Z",
     "iopub.execute_input": "2023-10-15T09:26:03.537041Z",
     "iopub.status.idle": "2023-10-15T09:26:04.534311Z",
     "shell.execute_reply.started": "2023-10-15T09:26:03.537012Z",
     "shell.execute_reply": "2023-10-15T09:26:04.533463Z"
    },
    "trusted": true,
    "ExecuteTime": {
     "start_time": "2023-11-17T09:17:21.589079400Z"
    }
   },
   "execution_count": null,
   "outputs": []
  },
  {
   "cell_type": "markdown",
   "source": [
    "### Train/Test Groups"
   ],
   "metadata": {}
  },
  {
   "cell_type": "code",
   "source": [
    "X_train, X_test, y_train, y_test = train_test_split(images, labels, test_size=0.01)\n",
    "\n",
    "train_data = TensorDataset(X_train, y_train)\n",
    "test_data = TensorDataset(X_test, y_test)\n",
    "batch_size = 128\n",
    "train_dl = DataLoader(train_data, batch_size=batch_size, shuffle=True, drop_last=True)\n",
    "test_dl = DataLoader(test_data, batch_size=len(test_data))"
   ],
   "metadata": {
    "collapsed": false,
    "execution": {
     "iopub.status.busy": "2023-10-15T09:26:04.535244Z",
     "iopub.execute_input": "2023-10-15T09:26:04.535565Z",
     "iopub.status.idle": "2023-10-15T09:26:04.884084Z",
     "shell.execute_reply.started": "2023-10-15T09:26:04.535534Z",
     "shell.execute_reply": "2023-10-15T09:26:04.883107Z"
    },
    "trusted": true,
    "ExecuteTime": {
     "start_time": "2023-11-17T09:17:21.589079400Z"
    }
   },
   "execution_count": null,
   "outputs": []
  },
  {
   "cell_type": "markdown",
   "source": [
    "# DL Model"
   ],
   "metadata": {}
  },
  {
   "cell_type": "code",
   "source": [
    "class EMNISTNet(nn.Module):\n",
    "    def __init__(self, print_toggle):\n",
    "        super().__init__()\n",
    "        self.print_toggle = print_toggle\n",
    "\n",
    "        # Conv1\n",
    "        self.conv1 = nn.Conv2d(in_channels=1, out_channels=64, kernel_size=3, padding=1)\n",
    "        self.bnorm1 = nn.BatchNorm2d(num_features=64)\n",
    "\n",
    "        # Conv2\n",
    "        self.conv2 = nn.Conv2d(in_channels=64, out_channels=128, kernel_size=3)\n",
    "        self.bnorm2 = nn.BatchNorm2d(num_features=128) # Input: number of channels\n",
    "\n",
    "        # Conv3\n",
    "        self.conv3 = nn.Conv2d(in_channels=128, out_channels=256, kernel_size=3)\n",
    "        self.bnorm3 = nn.BatchNorm2d(num_features=256) # Input: number of channels\n",
    "\n",
    "        self.fc1 = nn.Linear(in_features=2*2*256, out_features=256)\n",
    "        self.fc2 = nn.Linear(in_features=256, out_features=64)\n",
    "        self.fc3 = nn.Linear(in_features=64, out_features=26)\n",
    "\n",
    "    def forward(self, x):\n",
    "        if self.print_toggle:\n",
    "            print(f\"Input: {list(x.shape)}\")\n",
    "\n",
    "        # First Block: conv -> max_pool -> bnorm -> relu\n",
    "        x = F.max_pool2d(self.conv1(x), 2)\n",
    "        x = F.leaky_relu((self.bnorm1(x)))\n",
    "        x = F.dropout(x, p=0.25, training=self.training)\n",
    "        if self.print_toggle:\n",
    "            print(f\"First Block: {list(x.shape)}\")\n",
    "\n",
    "        # Second Block: conv -> max_pool -> bnorm -> relu\n",
    "        x = F.max_pool2d(self.conv2(x), 2)\n",
    "        x = F.leaky_relu((self.bnorm2(x)))\n",
    "        x = F.dropout(x, p=0.25, training=self.training)\n",
    "        if self.print_toggle:\n",
    "            print(f\"Second Block: {list(x.shape)}\")\n",
    "\n",
    "        # Third Block: conv -> max_pool -> bnorm -> relu\n",
    "        x = F.max_pool2d(self.conv3(x), 2)\n",
    "        x = F.leaky_relu((self.bnorm3(x)))\n",
    "        x = F.dropout(x, p=0.25, training=self.training)\n",
    "        if self.print_toggle:\n",
    "            print(f\"Second Block: {list(x.shape)}\")\n",
    "\n",
    "        # Reshape for linear layer\n",
    "        n_units = x.shape.numel() / x.shape[0]\n",
    "        x = x.view(-1, int(n_units))\n",
    "        if self.print_toggle:\n",
    "            print(f\"Vectorized: {list(x.shape)}\")\n",
    "\n",
    "        # Linear layers\n",
    "        x = F.leaky_relu(self.fc1(x))\n",
    "        x = F.dropout(x, p=0.5, training=self.training)\n",
    "        x = F.leaky_relu(self.fc2(x))\n",
    "        x = F.dropout(x, p=0.5, training=self.training)\n",
    "        x = self.fc3(x)\n",
    "        if self.print_toggle:\n",
    "            print(f\"Final Output: {list(x.shape)}\")\n",
    "\n",
    "        return x\n",
    "\n",
    "\n",
    "def make_the_model(print_toggle):\n",
    "\n",
    "    model = EMNISTNet(print_toggle)\n",
    "\n",
    "    loss_fun = nn.CrossEntropyLoss()\n",
    "    optimizer = torch.optim.Adam(params=model.parameters(), lr=0.001)\n",
    "\n",
    "    return model, loss_fun, optimizer"
   ],
   "metadata": {
    "collapsed": false,
    "execution": {
     "iopub.status.busy": "2023-10-15T09:26:04.885511Z",
     "iopub.execute_input": "2023-10-15T09:26:04.886089Z",
     "iopub.status.idle": "2023-10-15T09:26:05.309262Z",
     "shell.execute_reply.started": "2023-10-15T09:26:04.886056Z",
     "shell.execute_reply": "2023-10-15T09:26:05.308202Z"
    },
    "trusted": true,
    "ExecuteTime": {
     "start_time": "2023-11-17T09:17:21.590079300Z"
    }
   },
   "execution_count": null,
   "outputs": []
  },
  {
   "cell_type": "code",
   "source": [
    "model, loss_fun, optimizer = make_the_model(True)\n",
    "\n",
    "X, y = next(iter(train_dl))\n",
    "\n",
    "y_hat = model(X)\n",
    "loss = loss_fun(y_hat, torch.squeeze(y))\n",
    "\n",
    "print(f\"Output: {y_hat.shape} | Loss: {loss.item()}\")"
   ],
   "metadata": {
    "collapsed": false,
    "execution": {
     "iopub.status.busy": "2023-10-15T09:26:05.310683Z",
     "iopub.execute_input": "2023-10-15T09:26:05.311283Z",
     "iopub.status.idle": "2023-10-15T09:26:05.642606Z",
     "shell.execute_reply.started": "2023-10-15T09:26:05.31122Z",
     "shell.execute_reply": "2023-10-15T09:26:05.641699Z"
    },
    "trusted": true,
    "ExecuteTime": {
     "start_time": "2023-11-17T09:17:21.591081700Z"
    }
   },
   "execution_count": null,
   "outputs": []
  },
  {
   "cell_type": "markdown",
   "source": [
    "### Function for training the model"
   ],
   "metadata": {}
  },
  {
   "cell_type": "code",
   "source": [
    "def train_the_model():\n",
    "    epochs = 30\n",
    "    model, loss_fun, optimizer = make_the_model(False)\n",
    "\n",
    "    model = model.to(device)\n",
    "\n",
    "    train_loss = torch.zeros(epochs)\n",
    "    test_loss = torch.zeros(epochs)\n",
    "    train_acc = torch.zeros(epochs)\n",
    "    test_acc = torch.zeros(epochs)\n",
    "\n",
    "    for epoch_i in tqdm(range(epochs)):\n",
    "        batch_loss = []\n",
    "        batch_acc = []\n",
    "\n",
    "        model.train()\n",
    "        for X, y in tqdm(train_dl):\n",
    "            X, y = X.to(device), y.to(device)\n",
    "\n",
    "            y_hat = model(X)\n",
    "            loss = loss_fun(y_hat, torch.squeeze(y))\n",
    "            batch_loss.append(loss.item())\n",
    "\n",
    "            optimizer.zero_grad()\n",
    "            loss.backward()\n",
    "            optimizer.step()\n",
    "\n",
    "            acc = torch.mean((torch.argmax(y_hat, axis=1) == y).float()).item()\n",
    "            batch_acc.append(acc)\n",
    "\n",
    "        train_acc[epoch_i] = np.mean(batch_acc)\n",
    "        train_loss[epoch_i] = np.mean(batch_loss)\n",
    "\n",
    "        model.eval()\n",
    "        X, y = next(iter(test_dl))\n",
    "        X, y = X.to(device), y.to(device)\n",
    "        with torch.no_grad():\n",
    "            y_hat = model(X)\n",
    "            loss = loss_fun(y_hat, torch.squeeze(y))\n",
    "            acc = torch.mean((torch.argmax(y_hat, axis=1) == y).float()).item()\n",
    "\n",
    "            test_acc[epoch_i] = acc\n",
    "            test_loss[epoch_i] = loss.item()\n",
    "\n",
    "    return train_loss, test_loss, train_acc, test_acc, model"
   ],
   "metadata": {
    "collapsed": false,
    "execution": {
     "iopub.status.busy": "2023-10-15T09:26:05.64393Z",
     "iopub.execute_input": "2023-10-15T09:26:05.644833Z",
     "iopub.status.idle": "2023-10-15T09:26:05.653645Z",
     "shell.execute_reply.started": "2023-10-15T09:26:05.6448Z",
     "shell.execute_reply": "2023-10-15T09:26:05.652765Z"
    },
    "trusted": true,
    "ExecuteTime": {
     "start_time": "2023-11-17T09:17:21.592078900Z"
    }
   },
   "execution_count": null,
   "outputs": []
  },
  {
   "cell_type": "markdown",
   "source": [
    "### Running the model"
   ],
   "metadata": {}
  },
  {
   "cell_type": "code",
   "source": [
    "train_loss, test_loss, train_acc, test_acc, model = train_the_model()"
   ],
   "metadata": {
    "collapsed": false,
    "execution": {
     "iopub.status.busy": "2023-10-15T09:26:05.655068Z",
     "iopub.execute_input": "2023-10-15T09:26:05.655423Z",
     "iopub.status.idle": "2023-10-15T09:27:20.569968Z",
     "shell.execute_reply.started": "2023-10-15T09:26:05.655375Z",
     "shell.execute_reply": "2023-10-15T09:27:20.569004Z"
    },
    "trusted": true,
    "ExecuteTime": {
     "start_time": "2023-11-17T09:17:21.593079Z"
    }
   },
   "execution_count": null,
   "outputs": []
  },
  {
   "cell_type": "code",
   "source": [
    "fig, ax = plt.subplots(1, 2, figsize=(12, 3))\n",
    "\n",
    "ax[0].plot(train_loss, \"s-\", label=\"Train\")\n",
    "ax[0].plot(test_loss, \"o-\", label=\"Test\")\n",
    "ax[0].set_xlabel(\"Epochs\")\n",
    "ax[0].set_ylabel(\"Loss (MSE)\")\n",
    "ax[0].set_title(\"Model Loss\")\n",
    "\n",
    "ax[1].plot(train_acc, \"s-\", label=\"Train\")\n",
    "ax[1].plot(test_acc, \"o-\", label=\"Test\")\n",
    "ax[1].set_xlabel(\"Epochs\")\n",
    "ax[1].set_ylabel(\"Accuracy(%)\")\n",
    "ax[1].set_title(f\"Final Test Accuracy: {test_acc[-1]: 0.2f}\")\n",
    "ax[1].legend()\n",
    "plt.show()\n",
    "fig.savefig(\"emnist_loss_acc.png\")\n"
   ],
   "metadata": {
    "collapsed": false,
    "execution": {
     "iopub.status.busy": "2023-10-15T09:27:20.571173Z",
     "iopub.execute_input": "2023-10-15T09:27:20.57196Z",
     "iopub.status.idle": "2023-10-15T09:27:20.987502Z",
     "shell.execute_reply.started": "2023-10-15T09:27:20.571927Z",
     "shell.execute_reply": "2023-10-15T09:27:20.986692Z"
    },
    "trusted": true,
    "ExecuteTime": {
     "start_time": "2023-11-17T09:17:21.594078900Z"
    }
   },
   "execution_count": null,
   "outputs": []
  },
  {
   "cell_type": "markdown",
   "source": [
    "### Visualize some images"
   ],
   "metadata": {}
  },
  {
   "cell_type": "code",
   "source": [
    "X, y = next(iter(test_dl))\n",
    "\n",
    "X = X.to(device)\n",
    "y = y.to(device)\n",
    "\n",
    "y_hat = model(X)\n",
    "\n",
    "rand_idx = np.random.choice(len(y), size=21, replace=False)\n",
    "\n",
    "fg, axs = plt.subplots(3, 7, figsize=(12, 6))\n",
    "\n",
    "for i, ax in enumerate(axs.flatten()):\n",
    "    idx = rand_idx[i]\n",
    "    image = np.squeeze(X[idx, 0, :, :]).cpu()\n",
    "    true_letter = letterCategories[y[idx]]\n",
    "    pred_letter = letterCategories[torch.argmax(y_hat, axis=1)[idx]]\n",
    "\n",
    "    cmap = \"gray\" if true_letter == pred_letter else \"hot\"\n",
    "\n",
    "    ax.imshow(image, cmap=cmap)\n",
    "    ax.set_title(f\"True: {true_letter} | Pred: {pred_letter}\", fontsize=10)\n",
    "    ax.set_xticks([])\n",
    "    ax.set_yticks([])\n",
    "plt.show()"
   ],
   "metadata": {
    "collapsed": false,
    "execution": {
     "iopub.status.busy": "2023-10-15T09:28:00.717196Z",
     "iopub.execute_input": "2023-10-15T09:28:00.717524Z",
     "iopub.status.idle": "2023-10-15T09:28:01.507175Z",
     "shell.execute_reply.started": "2023-10-15T09:28:00.717497Z",
     "shell.execute_reply": "2023-10-15T09:28:01.506269Z"
    },
    "trusted": true,
    "ExecuteTime": {
     "start_time": "2023-11-17T09:17:21.594078900Z"
    }
   },
   "execution_count": null,
   "outputs": []
  },
  {
   "cell_type": "markdown",
   "source": [
    "### Accuracy by letter"
   ],
   "metadata": {}
  },
  {
   "cell_type": "code",
   "source": [
    "import sklearn.metrics as skm\n",
    "\n",
    "C = skm.confusion_matrix(y.cpu(), torch.argmax(y_hat.cpu(), axis=1), normalize='true')\n",
    "\n",
    "fig = plt.figure(figsize=(6, 6))\n",
    "plt.imshow(C, \"Blues\", vmax=0.5)\n",
    "\n",
    "plt.xticks(range(26), labels=letterCategories)\n",
    "plt.yticks(range(26), labels=letterCategories)\n",
    "plt.title(\"Test Confusion Matrix\")\n",
    "plt.show()\n",
    "fig.savefig(\"emnist_confusion_matrix.png\")"
   ],
   "metadata": {
    "collapsed": false,
    "execution": {
     "iopub.status.busy": "2023-10-15T09:28:13.105048Z",
     "iopub.execute_input": "2023-10-15T09:28:13.10554Z",
     "iopub.status.idle": "2023-10-15T09:28:13.707363Z",
     "shell.execute_reply.started": "2023-10-15T09:28:13.105498Z",
     "shell.execute_reply": "2023-10-15T09:28:13.706544Z"
    },
    "trusted": true,
    "ExecuteTime": {
     "start_time": "2023-11-17T09:17:21.596078900Z"
    }
   },
   "execution_count": null,
   "outputs": []
  },
  {
   "cell_type": "markdown",
   "source": [
    "### Save the model"
   ],
   "metadata": {
    "collapsed": false
   }
  },
  {
   "cell_type": "code",
   "execution_count": null,
   "outputs": [],
   "source": [
    "torch.save(model, \"emnist_model.pth\")\n"
   ],
   "metadata": {
    "collapsed": false,
    "ExecuteTime": {
     "end_time": "2023-11-17T09:17:21.619736100Z",
     "start_time": "2023-11-17T09:17:21.597078900Z"
    }
   }
  }
 ]
}
