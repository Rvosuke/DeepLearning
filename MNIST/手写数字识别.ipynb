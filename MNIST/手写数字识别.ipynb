{
 "cells": [
  {
   "cell_type": "code",
   "execution_count": 1,
   "id": "77e2cdf8-432b-4cd7-b76f-c31c4b5dce24",
   "metadata": {
    "ExecuteTime": {
     "start_time": "2023-04-28T16:17:45.621656Z",
     "end_time": "2023-04-28T16:17:47.135654Z"
    }
   },
   "outputs": [],
   "source": [
    "# 导入标准库、第三方库和PyTorch模块\n",
    "import os\n",
    "import torch\n",
    "import torchvision.transforms as transforms\n",
    "import numpy as np\n",
    "import logging\n",
    "import json\n",
    "from datetime import datetime\n",
    "\n",
    "from torch.utils.data import DataLoader\n",
    "from torchvision.datasets import MNIST\n",
    "\n",
    "# 数据处理：数据集加载、缩放、归一化、格式转换、洗牌、批标准化。\n",
    "def create_dataset(data_dir, training=True, batch_size=32, resize=(32, 32), rescale=1/(255*0.3081), shift=-0.1307/0.3081, buffer_size=64):\n",
    "    transform = transforms.Compose([\n",
    "        transforms.Resize(resize),\n",
    "        transforms.ToTensor(),\n",
    "        transforms.Normalize(mean=[shift], std=[rescale])\n",
    "    ])\n",
    "\n",
    "    ds = MNIST(root=data_dir, train=training, transform=transform, download=True)\n",
    "    loader = DataLoader(ds, batch_size=batch_size, shuffle=training, num_workers=4, pin_memory=True, drop_last=True)\n",
    "    \n",
    "    return loader\n"
   ]
  },
  {
   "cell_type": "code",
   "execution_count": 2,
   "id": "831c5eee-56ad-4a22-93c5-85edfdfb5a6a",
   "metadata": {
    "ExecuteTime": {
     "start_time": "2023-04-28T16:17:47.135654Z",
     "end_time": "2023-04-28T16:17:47.152689Z"
    }
   },
   "outputs": [],
   "source": [
    "import torch.nn as nn\n",
    "\n",
    "class LeNet5(nn.Module):\n",
    "    \"\"\"模型定义：算子初始化（参数设置），网络构建。\"\"\"\n",
    "    def __init__(self, activation='relu', dropout_rate=None):\n",
    "        super(LeNet5, self).__init__()\n",
    "        self.conv1 = nn.Conv2d(1, 6, 5, stride=1, padding=0)\n",
    "        self.conv2 = nn.Conv2d(6, 16, 5, stride=1, padding=0)\n",
    "        self.activation = activation\n",
    "        self.relu = nn.ReLU()\n",
    "        self.sigmoid = nn.Sigmoid()\n",
    "        self.pool = nn.MaxPool2d(kernel_size=2, stride=2)\n",
    "        self.dropout_rate = dropout_rate\n",
    "        self.dropout = nn.Dropout(p=dropout_rate) if dropout_rate else None\n",
    "        self.fc1 = nn.Linear(400, 120)\n",
    "        self.fc2 = nn.Linear(120, 84)\n",
    "        self.fc3 = nn.Linear(84, 10)\n",
    "        self.softmax = nn.Softmax(dim=1)\n",
    "    \n",
    "    def forward(self, x):\n",
    "        act = self.relu if self.activation == 'relu' else self.sigmoid\n",
    "        x = act(self.conv1(x))\n",
    "        x = self.pool(x)\n",
    "        x = act(self.conv2(x))\n",
    "        x = self.pool(x)\n",
    "\n",
    "        x = x.view(x.size(0), -1)  # Flatten\n",
    "        x = self.fc1(x)\n",
    "        if self.dropout:\n",
    "            x = self.dropout(x)\n",
    "        x = self.fc2(x)\n",
    "        if self.dropout:\n",
    "            x = self.dropout(x)\n",
    "        x = self.fc3(x)\n",
    "        x = self.softmax(x)\n",
    "\n",
    "        return x\n"
   ]
  },
  {
   "cell_type": "code",
   "execution_count": 3,
   "id": "3496d7de-66a7-4409-ad4f-d56d05ca0fce",
   "metadata": {
    "ExecuteTime": {
     "start_time": "2023-04-28T16:17:47.152689Z",
     "end_time": "2023-04-28T16:17:47.167220Z"
    }
   },
   "outputs": [],
   "source": [
    "device = torch.device(\"cuda:0\" if torch.cuda.is_available() else \"cpu\")\n",
    "if device.type == 'cuda':\n",
    "    torch.cuda.set_device(device)  # 设置使用的 GPU\n",
    "    torch.backends.cudnn.benchmark = True  # 自动寻找最快的卷积算法\n",
    "    num_GPUs = torch.cuda.device_count()\n",
    "    torch.cuda.set_device(0)  #选择GPU 0\n",
    "    num_CPUs = 8  # 设置要使用的CPU核心数\n",
    "    torch.set_num_threads(num_CPUs)  # 设置PyTorch线程数"
   ]
  },
  {
   "cell_type": "code",
   "execution_count": 4,
   "id": "b4aeb177-16dd-42bf-85da-433092c1fef1",
   "metadata": {
    "ExecuteTime": {
     "start_time": "2023-04-28T16:17:47.178236Z",
     "end_time": "2023-04-28T16:17:47.897577Z"
    }
   },
   "outputs": [],
   "source": [
    "import torch.optim as optim\n",
    "from torch.autograd import Variable\n",
    "import matplotlib.pyplot as plt\n",
    "\n",
    "def train(data_dir, loss_type='ce', activation='relu', dropout_rate=None, lr=0.01, momentum=0.9, num_epochs=10):\n",
    "    ds_train = create_dataset(data_dir, training=True)\n",
    "    ds_eval = create_dataset(data_dir, training=False)\n",
    "\n",
    "    net = LeNet5(activation=activation, dropout_rate=dropout_rate)\n",
    "\n",
    "    net.to(device)  # Move the model to the selected device\n",
    "\n",
    "    if loss_type == 'mse':\n",
    "        loss = nn.MSELoss()\n",
    "    elif loss_type == 'ce':\n",
    "        loss = nn.CrossEntropyLoss()\n",
    "    else:\n",
    "        raise ValueError(\"Invalid loss_type. Choose either 'mse' or 'ce'\")\n",
    "\n",
    "    opt = optim.SGD(net.parameters(), lr=lr, momentum=momentum)\n",
    "\n",
    "    train_losses = []\n",
    "    val_accuracies = []\n",
    "\n",
    "    for epoch in range(num_epochs):\n",
    "        running_loss = 0.0\n",
    "        for i, data in enumerate(ds_train, 0):\n",
    "            inputs, labels = data\n",
    "            inputs, labels = inputs.to(device), labels.to(device)  # Move the inputs and labels to the selected device\n",
    "            opt.zero_grad()\n",
    "\n",
    "            outputs = net(inputs)\n",
    "            if loss_type == 'mse':\n",
    "                labels = labels.long()\n",
    "                labels_one_hot = torch.zeros(labels.shape[0], 10).to(device)\n",
    "                labels_one_hot.scatter_(1, labels.view(-1, 1), 1)\n",
    "                loss_output = loss(outputs, labels_one_hot)\n",
    "            else:\n",
    "                loss_output = loss(outputs, labels)\n",
    "\n",
    "            loss_output.backward()\n",
    "            opt.step()\n",
    "\n",
    "            running_loss += loss_output.item()\n",
    "        train_losses.append(running_loss)\n",
    "\n",
    "        logging.info(f'Epoch {epoch + 1}, Loss: {running_loss}')\n",
    "\n",
    "        correct = 0\n",
    "        total = 0\n",
    "        with torch.no_grad():\n",
    "            for data in ds_eval:\n",
    "                images, labels = data\n",
    "                images, labels = images.to(device), labels.to(device)  # Move the images and labels to the selected device\n",
    "                outputs = net(images)\n",
    "                _, predicted = torch.max(outputs.data, 1)\n",
    "                total += labels.size(0)\n",
    "                correct += (predicted == labels).sum().item()\n",
    "        acc = 100 * correct / total\n",
    "        val_accuracies.append(acc)\n",
    "        logging.info(f'Accuracy: {acc} %')\n",
    "\n",
    "    return train_losses, val_accuracies\n"
   ]
  },
  {
   "cell_type": "code",
   "execution_count": 5,
   "id": "f9a7b485-e279-496d-a9ad-f2023b466ba5",
   "metadata": {
    "ExecuteTime": {
     "start_time": "2023-04-28T16:17:47.897577Z",
     "end_time": "2023-04-28T16:17:47.913208Z"
    }
   },
   "outputs": [],
   "source": [
    "def plot_history(train_losses, val_acc, title):\n",
    "    epochs = range(1, len(train_losses) + 1)\n",
    "\n",
    "    plt.figure()\n",
    "    plt.plot(epochs, train_losses, 'r', label='Training loss')\n",
    "    plt.title(title)\n",
    "    plt.xlabel('Epochs')\n",
    "    plt.ylabel('Loss')\n",
    "    plt.legend()\n",
    "\n",
    "    plt.figure()\n",
    "    plt.plot(epochs, val_acc, 'b', label='Validation accuracy')\n",
    "    plt.title(title)\n",
    "    plt.xlabel('Epochs')\n",
    "    plt.ylabel('Accuracy')\n",
    "    plt.legend()\n",
    "\n",
    "    plt.show()"
   ]
  },
  {
   "cell_type": "code",
   "execution_count": 6,
   "id": "c106af5e-ff4e-4be4-9c7f-bb571b1c0750",
   "metadata": {
    "ExecuteTime": {
     "start_time": "2023-04-28T16:17:47.913208Z",
     "end_time": "2023-04-28T16:17:47.929289Z"
    }
   },
   "outputs": [],
   "source": [
    "def setup_logger():\n",
    "    timestamp = datetime.now().strftime(\"%Y-%m-%d_%H-%M-%S\")\n",
    "    log_filename = f\"training_logs_{timestamp}.log\"\n",
    "    \n",
    "    logging.basicConfig(filename=log_filename,\n",
    "                        filemode='w',\n",
    "                        level=logging.INFO,\n",
    "                        format='%(asctime)s [%(levelname)s] - %(message)s',\n",
    "                        datefmt='%Y-%m-%d %H:%M:%S')\n",
    "    console = logging.StreamHandler()\n",
    "    console.setLevel(logging.INFO)\n",
    "    formatter = logging.Formatter('%(asctime)s [%(levelname)s] - %(message)s')\n",
    "    console.setFormatter(formatter)\n",
    "    logging.getLogger('').addHandler(console)\n"
   ]
  },
  {
   "cell_type": "code",
   "execution_count": 7,
   "id": "abe7ec03-8fc2-4869-a801-efb2e9644b2a",
   "metadata": {
    "ExecuteTime": {
     "start_time": "2023-04-28T16:17:47.929289Z",
     "end_time": "2023-04-28T16:22:52.986539Z"
    }
   },
   "outputs": [
    {
     "name": "stderr",
     "output_type": "stream",
     "text": [
      "2023-04-28 16:17:47,929 [INFO] - Training num_epochs=20,lr=0.0015,moentum=0.9\n",
      "\n",
      "2023-04-28 16:17:47,929 [INFO] - \n",
      "\n",
      " Training with ReLU Mean Squared Error without Dropout:\n"
     ]
    },
    {
     "name": "stdout",
     "output_type": "stream",
     "text": [
      "Downloading http://yann.lecun.com/exdb/mnist/train-images-idx3-ubyte.gz\n",
      "Downloading http://yann.lecun.com/exdb/mnist/train-images-idx3-ubyte.gz to MNIST_Data\\MNIST\\raw\\train-images-idx3-ubyte.gz\n"
     ]
    },
    {
     "name": "stderr",
     "output_type": "stream",
     "text": [
      "100.0%\n"
     ]
    },
    {
     "name": "stdout",
     "output_type": "stream",
     "text": [
      "Extracting MNIST_Data\\MNIST\\raw\\train-images-idx3-ubyte.gz to MNIST_Data\\MNIST\\raw\n",
      "\n",
      "Downloading http://yann.lecun.com/exdb/mnist/train-labels-idx1-ubyte.gz\n",
      "Downloading http://yann.lecun.com/exdb/mnist/train-labels-idx1-ubyte.gz to MNIST_Data\\MNIST\\raw\\train-labels-idx1-ubyte.gz\n"
     ]
    },
    {
     "name": "stderr",
     "output_type": "stream",
     "text": [
      "100.0%\n"
     ]
    },
    {
     "name": "stdout",
     "output_type": "stream",
     "text": [
      "Extracting MNIST_Data\\MNIST\\raw\\train-labels-idx1-ubyte.gz to MNIST_Data\\MNIST\\raw\n",
      "\n",
      "Downloading http://yann.lecun.com/exdb/mnist/t10k-images-idx3-ubyte.gz\n",
      "Downloading http://yann.lecun.com/exdb/mnist/t10k-images-idx3-ubyte.gz to MNIST_Data\\MNIST\\raw\\t10k-images-idx3-ubyte.gz\n"
     ]
    },
    {
     "name": "stderr",
     "output_type": "stream",
     "text": [
      "100.0%\n"
     ]
    },
    {
     "name": "stdout",
     "output_type": "stream",
     "text": [
      "Extracting MNIST_Data\\MNIST\\raw\\t10k-images-idx3-ubyte.gz to MNIST_Data\\MNIST\\raw\n",
      "\n",
      "Downloading http://yann.lecun.com/exdb/mnist/t10k-labels-idx1-ubyte.gz\n",
      "Downloading http://yann.lecun.com/exdb/mnist/t10k-labels-idx1-ubyte.gz to MNIST_Data\\MNIST\\raw\\t10k-labels-idx1-ubyte.gz\n"
     ]
    },
    {
     "name": "stderr",
     "output_type": "stream",
     "text": [
      "100.0%\n"
     ]
    },
    {
     "name": "stdout",
     "output_type": "stream",
     "text": [
      "Extracting MNIST_Data\\MNIST\\raw\\t10k-labels-idx1-ubyte.gz to MNIST_Data\\MNIST\\raw\n",
      "\n"
     ]
    },
    {
     "name": "stderr",
     "output_type": "stream",
     "text": [
      "C:\\Users\\86177\\AppData\\Local\\Temp\\ipykernel_19916\\1357045474.py:35: UserWarning: Implicit dimension choice for softmax has been deprecated. Change the call to include dim=X as an argument.\n",
      "  x = self.softmax(x)\n",
      "2023-04-28 16:18:10,324 [INFO] - Epoch 1, Loss: 45.85078444087412\n",
      "2023-04-28 16:18:13,181 [INFO] - Accuracy: 94.07051282051282 %\n",
      "2023-04-28 16:18:24,271 [INFO] - Epoch 2, Loss: 16.24986077909125\n",
      "2023-04-28 16:18:27,261 [INFO] - Accuracy: 95.51282051282051 %\n",
      "2023-04-28 16:18:39,201 [INFO] - Epoch 3, Loss: 12.21816091205983\n",
      "2023-04-28 16:18:41,982 [INFO] - Accuracy: 96.47435897435898 %\n",
      "2023-04-28 16:18:53,162 [INFO] - Epoch 4, Loss: 10.146193732139182\n",
      "2023-04-28 16:18:56,043 [INFO] - Accuracy: 97.25560897435898 %\n",
      "2023-04-28 16:19:07,247 [INFO] - Epoch 5, Loss: 8.867649031807105\n",
      "2023-04-28 16:19:10,122 [INFO] - Accuracy: 97.70633012820512 %\n",
      "2023-04-28 16:19:21,434 [INFO] - Epoch 6, Loss: 7.925211424177633\n",
      "2023-04-28 16:19:24,421 [INFO] - Accuracy: 97.7363782051282 %\n",
      "2023-04-28 16:19:35,588 [INFO] - Epoch 7, Loss: 7.404539796426434\n",
      "2023-04-28 16:19:38,631 [INFO] - Accuracy: 97.84655448717949 %\n",
      "2023-04-28 16:19:51,507 [INFO] - Epoch 8, Loss: 6.782554454039769\n",
      "2023-04-28 16:19:54,561 [INFO] - Accuracy: 98.07692307692308 %\n",
      "2023-04-28 16:20:07,175 [INFO] - Epoch 9, Loss: 6.376146438422126\n",
      "2023-04-28 16:20:10,057 [INFO] - Accuracy: 97.88661858974359 %\n",
      "2023-04-28 16:20:21,396 [INFO] - Epoch 10, Loss: 6.094909254884897\n",
      "2023-04-28 16:20:24,703 [INFO] - Accuracy: 97.9667467948718 %\n",
      "2023-04-28 16:20:35,874 [INFO] - Epoch 11, Loss: 5.830935096585108\n",
      "2023-04-28 16:20:38,826 [INFO] - Accuracy: 98.06690705128206 %\n",
      "2023-04-28 16:20:50,300 [INFO] - Epoch 12, Loss: 5.605158258430777\n",
      "2023-04-28 16:20:53,797 [INFO] - Accuracy: 98.07692307692308 %\n",
      "2023-04-28 16:21:06,545 [INFO] - Epoch 13, Loss: 5.328829601542509\n",
      "2023-04-28 16:21:09,646 [INFO] - Accuracy: 98.19711538461539 %\n",
      "2023-04-28 16:21:20,413 [INFO] - Epoch 14, Loss: 5.225367980898312\n",
      "2023-04-28 16:21:24,132 [INFO] - Accuracy: 98.17708333333333 %\n",
      "2023-04-28 16:21:36,138 [INFO] - Epoch 15, Loss: 4.992427961885781\n",
      "2023-04-28 16:21:39,054 [INFO] - Accuracy: 98.17708333333333 %\n",
      "2023-04-28 16:21:50,626 [INFO] - Epoch 16, Loss: 4.867015846583939\n",
      "2023-04-28 16:21:53,595 [INFO] - Accuracy: 98.24719551282051 %\n",
      "2023-04-28 16:22:05,268 [INFO] - Epoch 17, Loss: 4.662155344988122\n",
      "2023-04-28 16:22:08,335 [INFO] - Accuracy: 98.18709935897436 %\n",
      "2023-04-28 16:22:19,925 [INFO] - Epoch 18, Loss: 4.581083101868643\n",
      "2023-04-28 16:22:23,061 [INFO] - Accuracy: 98.20713141025641 %\n",
      "2023-04-28 16:22:34,551 [INFO] - Epoch 19, Loss: 4.428078813625035\n",
      "2023-04-28 16:22:38,014 [INFO] - Accuracy: 98.33733974358974 %\n",
      "2023-04-28 16:22:49,965 [INFO] - Epoch 20, Loss: 4.360264847327457\n",
      "2023-04-28 16:22:52,732 [INFO] - Accuracy: 98.3573717948718 %\n"
     ]
    },
    {
     "data": {
      "text/plain": "<Figure size 640x480 with 1 Axes>",
      "image/png": "[encoded data removed]"
     },
     "metadata": {},
     "output_type": "display_data"
    },
    {
     "data": {
      "text/plain": "<Figure size 640x480 with 1 Axes>",
      "image/png": "[encoded data removed]"
     },
     "metadata": {},
     "output_type": "display_data"
    }
   ],
   "source": [
    "setup_logger()\n",
    "\n",
    "data_dir = 'MNIST_Data'\n",
    "num_epochs = 20\n",
    "lr = 0.0015\n",
    "momentum = 0.9\n",
    "dropout_rate = 0.1\n",
    "\n",
    "# Save hyperparameters\n",
    "hyperparameters = {\n",
    "    'num_epochs': num_epochs,\n",
    "    'learning_rate': lr,\n",
    "    'momentum': momentum\n",
    "}\n",
    "with open('hyperparameters.json', 'w') as f:\n",
    "    json.dump(hyperparameters, f, indent=4)\n",
    "logging.info(f\"Training num_epochs={num_epochs},lr={lr},moentum={momentum}\\n\")\n",
    "logging.info(\"\\n\\n Training with ReLU Mean Squared Error without Dropout:\")\n",
    "train_losses, val_acc = train(data_dir, activation='relu', loss_type='mse', dropout_rate=None, num_epochs=num_epochs, lr=lr, momentum=momentum)\n",
    "plot_history(train_losses, val_acc, 'Training with ReLU Mean Squared Error without Dropout')\n"
   ]
  },
  {
   "cell_type": "code",
   "execution_count": 8,
   "outputs": [
    {
     "name": "stderr",
     "output_type": "stream",
     "text": [
      "2023-04-28 16:22:52,986 [INFO] - \n",
      "\n",
      " Training with ReLU Cross Entropy without Dropout:\n",
      "C:\\Users\\86177\\AppData\\Local\\Temp\\ipykernel_19916\\1357045474.py:35: UserWarning: Implicit dimension choice for softmax has been deprecated. Change the call to include dim=X as an argument.\n",
      "  x = self.softmax(x)\n",
      "2023-04-28 16:23:04,679 [INFO] - Epoch 1, Loss: 3113.0171930789948\n",
      "2023-04-28 16:23:07,525 [INFO] - Accuracy: 87.1895032051282 %\n",
      "2023-04-28 16:23:18,247 [INFO] - Epoch 2, Loss: 2981.8682392835617\n",
      "2023-04-28 16:23:21,725 [INFO] - Accuracy: 87.91065705128206 %\n",
      "2023-04-28 16:23:33,816 [INFO] - Epoch 3, Loss: 2971.2128694057465\n",
      "2023-04-28 16:23:37,022 [INFO] - Accuracy: 88.41145833333333 %\n",
      "2023-04-28 16:23:48,486 [INFO] - Epoch 4, Loss: 2963.157282233238\n",
      "2023-04-28 16:23:51,412 [INFO] - Accuracy: 88.87219551282051 %\n",
      "2023-04-28 16:24:05,908 [INFO] - Epoch 5, Loss: 2957.9102642536163\n",
      "2023-04-28 16:24:10,587 [INFO] - Accuracy: 88.38141025641026 %\n",
      "2023-04-28 16:24:29,707 [INFO] - Epoch 6, Loss: 2955.7046291828156\n",
      "2023-04-28 16:24:33,790 [INFO] - Accuracy: 88.58173076923077 %\n",
      "2023-04-28 16:24:52,404 [INFO] - Epoch 7, Loss: 2953.45843565464\n",
      "2023-04-28 16:24:56,658 [INFO] - Accuracy: 89.19270833333333 %\n",
      "2023-04-28 16:25:18,252 [INFO] - Epoch 8, Loss: 2928.613289475441\n",
      "2023-04-28 16:25:22,804 [INFO] - Accuracy: 97.84655448717949 %\n",
      "2023-04-28 16:25:45,516 [INFO] - Epoch 9, Loss: 2775.702555179596\n",
      "2023-04-28 16:25:50,473 [INFO] - Accuracy: 98.42748397435898 %\n"
     ]
    },
    {
     "ename": "KeyboardInterrupt",
     "evalue": "",
     "output_type": "error",
     "traceback": [
      "\u001B[1;31m---------------------------------------------------------------------------\u001B[0m",
      "\u001B[1;31mKeyboardInterrupt\u001B[0m                         Traceback (most recent call last)",
      "Cell \u001B[1;32mIn[8], line 2\u001B[0m\n\u001B[0;32m      1\u001B[0m logging\u001B[38;5;241m.\u001B[39minfo(\u001B[38;5;124m\"\u001B[39m\u001B[38;5;130;01m\\n\u001B[39;00m\u001B[38;5;130;01m\\n\u001B[39;00m\u001B[38;5;124m Training with ReLU Cross Entropy without Dropout:\u001B[39m\u001B[38;5;124m\"\u001B[39m)\n\u001B[1;32m----> 2\u001B[0m train_losses, val_acc \u001B[38;5;241m=\u001B[39m \u001B[43mtrain\u001B[49m\u001B[43m(\u001B[49m\u001B[43mdata_dir\u001B[49m\u001B[43m,\u001B[49m\u001B[43m \u001B[49m\u001B[43mactivation\u001B[49m\u001B[38;5;241;43m=\u001B[39;49m\u001B[38;5;124;43m'\u001B[39;49m\u001B[38;5;124;43mrelu\u001B[39;49m\u001B[38;5;124;43m'\u001B[39;49m\u001B[43m,\u001B[49m\u001B[43m \u001B[49m\u001B[43mloss_type\u001B[49m\u001B[38;5;241;43m=\u001B[39;49m\u001B[38;5;124;43m'\u001B[39;49m\u001B[38;5;124;43mce\u001B[39;49m\u001B[38;5;124;43m'\u001B[39;49m\u001B[43m,\u001B[49m\u001B[43mdropout_rate\u001B[49m\u001B[38;5;241;43m=\u001B[39;49m\u001B[38;5;28;43;01mNone\u001B[39;49;00m\u001B[43m,\u001B[49m\u001B[43m \u001B[49m\u001B[43mnum_epochs\u001B[49m\u001B[38;5;241;43m=\u001B[39;49m\u001B[43mnum_epochs\u001B[49m\u001B[43m,\u001B[49m\u001B[43m \u001B[49m\u001B[43mlr\u001B[49m\u001B[38;5;241;43m=\u001B[39;49m\u001B[43mlr\u001B[49m\u001B[43m,\u001B[49m\u001B[43m \u001B[49m\u001B[43mmomentum\u001B[49m\u001B[38;5;241;43m=\u001B[39;49m\u001B[43mmomentum\u001B[49m\u001B[43m)\u001B[49m\n\u001B[0;32m      3\u001B[0m plot_history(train_losses, val_acc, \u001B[38;5;124m'\u001B[39m\u001B[38;5;124mTraining with ReLU Cross Entropy without Dropout\u001B[39m\u001B[38;5;124m'\u001B[39m)\n",
      "Cell \u001B[1;32mIn[4], line 41\u001B[0m, in \u001B[0;36mtrain\u001B[1;34m(data_dir, loss_type, activation, dropout_rate, lr, momentum, num_epochs)\u001B[0m\n\u001B[0;32m     38\u001B[0m \u001B[38;5;28;01melse\u001B[39;00m:\n\u001B[0;32m     39\u001B[0m     loss_output \u001B[38;5;241m=\u001B[39m loss(outputs, labels)\n\u001B[1;32m---> 41\u001B[0m \u001B[43mloss_output\u001B[49m\u001B[38;5;241;43m.\u001B[39;49m\u001B[43mbackward\u001B[49m\u001B[43m(\u001B[49m\u001B[43m)\u001B[49m\n\u001B[0;32m     42\u001B[0m opt\u001B[38;5;241m.\u001B[39mstep()\n\u001B[0;32m     44\u001B[0m running_loss \u001B[38;5;241m+\u001B[39m\u001B[38;5;241m=\u001B[39m loss_output\u001B[38;5;241m.\u001B[39mitem()\n",
      "File \u001B[1;32m~\\miniconda3\\envs\\D2L\\lib\\site-packages\\torch\\_tensor.py:396\u001B[0m, in \u001B[0;36mTensor.backward\u001B[1;34m(self, gradient, retain_graph, create_graph, inputs)\u001B[0m\n\u001B[0;32m    387\u001B[0m \u001B[38;5;28;01mif\u001B[39;00m has_torch_function_unary(\u001B[38;5;28mself\u001B[39m):\n\u001B[0;32m    388\u001B[0m     \u001B[38;5;28;01mreturn\u001B[39;00m handle_torch_function(\n\u001B[0;32m    389\u001B[0m         Tensor\u001B[38;5;241m.\u001B[39mbackward,\n\u001B[0;32m    390\u001B[0m         (\u001B[38;5;28mself\u001B[39m,),\n\u001B[1;32m   (...)\u001B[0m\n\u001B[0;32m    394\u001B[0m         create_graph\u001B[38;5;241m=\u001B[39mcreate_graph,\n\u001B[0;32m    395\u001B[0m         inputs\u001B[38;5;241m=\u001B[39minputs)\n\u001B[1;32m--> 396\u001B[0m \u001B[43mtorch\u001B[49m\u001B[38;5;241;43m.\u001B[39;49m\u001B[43mautograd\u001B[49m\u001B[38;5;241;43m.\u001B[39;49m\u001B[43mbackward\u001B[49m\u001B[43m(\u001B[49m\u001B[38;5;28;43mself\u001B[39;49m\u001B[43m,\u001B[49m\u001B[43m \u001B[49m\u001B[43mgradient\u001B[49m\u001B[43m,\u001B[49m\u001B[43m \u001B[49m\u001B[43mretain_graph\u001B[49m\u001B[43m,\u001B[49m\u001B[43m \u001B[49m\u001B[43mcreate_graph\u001B[49m\u001B[43m,\u001B[49m\u001B[43m \u001B[49m\u001B[43minputs\u001B[49m\u001B[38;5;241;43m=\u001B[39;49m\u001B[43minputs\u001B[49m\u001B[43m)\u001B[49m\n",
      "File \u001B[1;32m~\\miniconda3\\envs\\D2L\\lib\\site-packages\\torch\\autograd\\__init__.py:173\u001B[0m, in \u001B[0;36mbackward\u001B[1;34m(tensors, grad_tensors, retain_graph, create_graph, grad_variables, inputs)\u001B[0m\n\u001B[0;32m    168\u001B[0m     retain_graph \u001B[38;5;241m=\u001B[39m create_graph\n\u001B[0;32m    170\u001B[0m \u001B[38;5;66;03m# The reason we repeat same the comment below is that\u001B[39;00m\n\u001B[0;32m    171\u001B[0m \u001B[38;5;66;03m# some Python versions print out the first line of a multi-line function\u001B[39;00m\n\u001B[0;32m    172\u001B[0m \u001B[38;5;66;03m# calls in the traceback and some print out the last line\u001B[39;00m\n\u001B[1;32m--> 173\u001B[0m \u001B[43mVariable\u001B[49m\u001B[38;5;241;43m.\u001B[39;49m\u001B[43m_execution_engine\u001B[49m\u001B[38;5;241;43m.\u001B[39;49m\u001B[43mrun_backward\u001B[49m\u001B[43m(\u001B[49m\u001B[43m  \u001B[49m\u001B[38;5;66;43;03m# Calls into the C++ engine to run the backward pass\u001B[39;49;00m\n\u001B[0;32m    174\u001B[0m \u001B[43m    \u001B[49m\u001B[43mtensors\u001B[49m\u001B[43m,\u001B[49m\u001B[43m \u001B[49m\u001B[43mgrad_tensors_\u001B[49m\u001B[43m,\u001B[49m\u001B[43m \u001B[49m\u001B[43mretain_graph\u001B[49m\u001B[43m,\u001B[49m\u001B[43m \u001B[49m\u001B[43mcreate_graph\u001B[49m\u001B[43m,\u001B[49m\u001B[43m \u001B[49m\u001B[43minputs\u001B[49m\u001B[43m,\u001B[49m\n\u001B[0;32m    175\u001B[0m \u001B[43m    \u001B[49m\u001B[43mallow_unreachable\u001B[49m\u001B[38;5;241;43m=\u001B[39;49m\u001B[38;5;28;43;01mTrue\u001B[39;49;00m\u001B[43m,\u001B[49m\u001B[43m \u001B[49m\u001B[43maccumulate_grad\u001B[49m\u001B[38;5;241;43m=\u001B[39;49m\u001B[38;5;28;43;01mTrue\u001B[39;49;00m\u001B[43m)\u001B[49m\n",
      "\u001B[1;31mKeyboardInterrupt\u001B[0m: "
     ]
    }
   ],
   "source": [
    "logging.info(\"\\n\\n Training with ReLU Cross Entropy without Dropout:\")\n",
    "train_losses, val_acc = train(data_dir, activation='relu', loss_type='ce',dropout_rate=None, num_epochs=num_epochs, lr=lr, momentum=momentum)\n",
    "plot_history(train_losses, val_acc, 'Training with ReLU Cross Entropy without Dropout')\n"
   ],
   "metadata": {
    "collapsed": false
   }
  },
  {
   "cell_type": "code",
   "execution_count": null,
   "outputs": [],
   "source": [
    "logging.info(\"\\n\\n Training with Sigmoid Mean Squared Error without Dropout:\")\n",
    "train_losses, val_acc = train(data_dir, activation='sigmoid', loss_type='mse',dropout_rate=None, num_epochs=num_epochs+30, lr=lr+0.00075, momentum=momentum)\n",
    "plot_history(train_losses, val_acc, 'Training with Sigmoid Mean Squared Error without Dropout')\n"
   ],
   "metadata": {
    "collapsed": false
   }
  },
  {
   "cell_type": "code",
   "execution_count": null,
   "outputs": [],
   "source": [
    "logging.info(\"\\n\\n Training with Sigmoid Cross Entropy without Dropout:\")\n",
    "train_losses, val_acc = train(data_dir, activation='sigmoid', loss_type='ce',dropout_rate=None, num_epochs=num_epochs, lr=lr, momentum=momentum)\n",
    "plot_history(train_losses, val_acc, 'Training with Sigmoid Cross Entropy without Dropout')\n"
   ],
   "metadata": {
    "collapsed": false
   }
  },
  {
   "cell_type": "code",
   "execution_count": null,
   "outputs": [],
   "source": [
    "logging.info(\"\\n\\n Training with ReLU Mean Squared Error with Dropout:\")\n",
    "train_losses, val_acc = train(data_dir, activation='relu', loss_type='mse', dropout_rate=dropout_rate, num_epochs=num_epochs, lr=lr+0.0005, momentum=momentum)\n",
    "plot_history(train_losses, val_acc, 'Training with ReLU Mean Squared Error with Dropout')\n"
   ],
   "metadata": {
    "collapsed": false
   }
  },
  {
   "cell_type": "code",
   "execution_count": null,
   "outputs": [],
   "source": [
    "logging.info(\"\\n\\n Training with ReLU Cross Entropy with Dropout:\")\n",
    "train_losses, val_acc = train(data_dir, activation='relu', loss_type='ce',dropout_rate=dropout_rate, num_epochs=num_epochs, lr=lr-0.0007, momentum=momentum)\n",
    "plot_history(train_losses, val_acc, 'Training with ReLU Cross Entropy with Dropout')\n"
   ],
   "metadata": {
    "collapsed": false
   }
  },
  {
   "cell_type": "code",
   "execution_count": null,
   "outputs": [],
   "source": [
    "logging.info(\"\\n\\n Training with Sigmoid Mean Squared Error with Dropout:\")\n",
    "train_losses, val_acc = train(data_dir, activation='sigmoid', loss_type='mse',dropout_rate=dropout_rate, num_epochs=num_epochs, lr=lr, momentum=momentum)\n",
    "plot_history(train_losses, val_acc, 'Training with Sigmoid Mean Squared Error with Dropout')\n"
   ],
   "metadata": {
    "collapsed": false
   }
  },
  {
   "cell_type": "code",
   "execution_count": null,
   "outputs": [],
   "source": [
    "logging.info(\"\\n\\n Training with Sigmoid Cross Entropy with Dropout:\")\n",
    "train_losses, val_acc = train(data_dir, activation='sigmoid', loss_type='ce',dropout_rate=dropout_rate, num_epochs=num_epochs, lr=lr, momentum=momentum)\n",
    "plot_history(train_losses, val_acc, 'Training with Sigmoid Cross Entropy with Dropout')\n"
   ],
   "metadata": {
    "collapsed": false
   }
  }
 ],
 "metadata": {
  "kernelspec": {
   "name": "python3",
   "language": "python",
   "display_name": "Python 3 (ipykernel)"
  },
  "language_info": {
   "codemirror_mode": {
    "name": "ipython",
    "version": 3
   },
   "file_extension": ".py",
   "mimetype": "text/x-python",
   "name": "python",
   "nbconvert_exporter": "python",
   "pygments_lexer": "ipython3",
   "version": "3.7.10"
  }
 },
 "nbformat": 4,
 "nbformat_minor": 5
}
