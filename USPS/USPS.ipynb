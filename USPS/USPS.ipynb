{
 "cells": [
  {
   "cell_type": "code",
   "execution_count": 2,
   "id": "830f257e-a32d-41a4-b1f5-5d66971c295a",
   "metadata": {
    "ExecuteTime": {
     "start_time": "2023-04-28T16:23:52.959990Z",
     "end_time": "2023-04-28T16:24:01.113403Z"
    }
   },
   "outputs": [],
   "source": [
    "from torchvision.datasets import USPS\n",
    "from torchvision import transforms\n",
    "\n",
    "transform = transforms.Compose([transforms.Resize((32, 32)), transforms.ToTensor()])\n",
    "\n",
    "train_dataset = USPS(root='USPS/train', train=True, transform=transform, download=True)\n",
    "test_dataset = USPS(root='USPS/test', train=False, transform=transform, download=True)\n"
   ]
  },
  {
   "cell_type": "code",
   "execution_count": 2,
   "outputs": [
    {
     "data": {
      "text/plain": "False"
     },
     "execution_count": 2,
     "metadata": {},
     "output_type": "execute_result"
    }
   ],
   "source": [
    "import torch\n",
    "torch.cuda.is_available()"
   ],
   "metadata": {
    "collapsed": false,
    "ExecuteTime": {
     "start_time": "2023-04-28T16:51:39.312248Z",
     "end_time": "2023-04-28T16:51:39.334412Z"
    }
   }
  },
  {
   "cell_type": "code",
   "execution_count": 3,
   "id": "57b9b5ed-8510-4555-894f-9b18c6551e0b",
   "metadata": {
    "ExecuteTime": {
     "start_time": "2023-04-28T16:24:01.129367Z",
     "end_time": "2023-04-28T16:24:01.145397Z"
    }
   },
   "outputs": [
    {
     "name": "stdout",
     "output_type": "stream",
     "text": [
      "Dataset type: <class 'torchvision.datasets.usps.USPS'>\n",
      "Number of samples: 7291\n",
      "Number of classes: 10\n",
      "Dataset type: <class 'torchvision.datasets.usps.USPS'>\n",
      "Number of samples: 2007\n",
      "Number of classes: 10\n"
     ]
    }
   ],
   "source": [
    "import os\n",
    "import torch\n",
    "import torchvision.transforms as transforms\n",
    "from torch.utils.data import Dataset, DataLoader\n",
    "from PIL import Image\n",
    "\n",
    "class USPostalDataset(Dataset):\n",
    "    \"\"\"读取数据集\"\"\"\n",
    "    def __init__(self, root_dir, train=True, transform=None):\n",
    "        self.root_dir = root_dir\n",
    "        self.train = train\n",
    "        self.transform = transform\n",
    "\n",
    "        if self.train:\n",
    "            self.data_dir = os.path.join(self.root_dir, 'train')\n",
    "        else:\n",
    "            self.data_dir = os.path.join(self.root_dir, 'test')\n",
    "\n",
    "        self.imgs = []\n",
    "        self.labels = []\n",
    "\n",
    "        for label in os.listdir(self.data_dir):\n",
    "            label_dir = os.path.join(self.data_dir, label)\n",
    "            for img_name in os.listdir(label_dir):\n",
    "                self.imgs.append(os.path.join(label_dir, img_name))\n",
    "                self.labels.append(int(label))\n",
    "\n",
    "    def __len__(self):\n",
    "        return len(self.imgs)\n",
    "\n",
    "    def __getitem__(self, idx):\n",
    "        img_path = self.imgs[idx]\n",
    "        image = Image.open(img_path).convert('L')\n",
    "        label = self.labels[idx]\n",
    "\n",
    "        if self.transform:\n",
    "            image = self.transform(image)\n",
    "\n",
    "        return image, label\n",
    "\n",
    "def display_dataset_info(dataset):\n",
    "    print(f\"Dataset type: {type(dataset)}\")\n",
    "    print(f\"Number of samples: {len(dataset)}\")\n",
    "    print(f\"Number of classes: 10\")\n",
    "\n",
    "\n",
    "display_dataset_info(train_dataset)\n",
    "display_dataset_info(test_dataset)\n"
   ]
  },
  {
   "cell_type": "code",
   "execution_count": 4,
   "id": "6461f9cb-ab69-4496-8863-5b485b98c690",
   "metadata": {
    "ExecuteTime": {
     "start_time": "2023-04-28T16:24:01.145397Z",
     "end_time": "2023-04-28T16:24:01.177374Z"
    }
   },
   "outputs": [],
   "source": [
    "import torch.nn as nn\n",
    "import torch.nn.functional as F\n",
    "\n",
    "\n",
    "# def num_flat_features(x):\n",
    "#     \"\"\"计算输入的特征数量\"\"\"\n",
    "#     size = x.size()[1:]\n",
    "#     num_features = 1\n",
    "#     for s in size:\n",
    "#         num_features *= s\n",
    "#     return num_features\n",
    "\n",
    "\n",
    "class LeNet5Model(nn.Module):\n",
    "    \"\"\"LeNet5 CNN模型\n",
    "    包含:\n",
    "    - 两个卷积层:Conv2d(1, 6, 5), Conv2d(6, 16, 5)\n",
    "    - 两个池化层:MaxPool2d(kernel_size=2, stride=2)\n",
    "    - 三个全连接层:Linear(16 * 5 * 5, 120), Linear(120, 84), Linear(84, 10)\n",
    "    - Dropout with drop rate of 0.5\n",
    "    - ReLU激活函数\n",
    "    \"\"\"\n",
    "    def __init__(self, activation='relu', drop_rate=0.5):\n",
    "        super(LeNet5Model, self).__init__()\n",
    "        self.activation = activation\n",
    "        self.drop_rate = drop_rate\n",
    "\n",
    "        # 两个卷积层\n",
    "        self.conv1 = nn.Conv2d(1, 6, 5)\n",
    "        self.conv2 = nn.Conv2d(6, 16, 5)\n",
    "\n",
    "        # 两个池化层\n",
    "        self.pool1 = nn.MaxPool2d(2, 2)\n",
    "        self.pool2 = nn.MaxPool2d(2, 2)\n",
    "\n",
    "        # 三个全连接层\n",
    "        self.fc1 = nn.Linear(16 * 5 * 5, 120)\n",
    "        self.fc2 = nn.Linear(120, 84)\n",
    "        self.fc3 = nn.Linear(84, 10)\n",
    "        # self.softmax = nn.Softmax(dim=1)\n",
    "\n",
    "        # Dropout层\n",
    "        self.dropout = nn.Dropout(self.drop_rate)\n",
    "\n",
    "        # 选择激活函数\n",
    "        if activation == 'relu':\n",
    "            self.act = nn.ReLU()\n",
    "        if activation == 'leaky_relu':\n",
    "            self.act = nn.LeakyReLU()\n",
    "        if activation == 'sigmoid':\n",
    "            self.act = nn.Sigmoid()\n",
    "\n",
    "    def forward(self, x):\n",
    "        # 第一个卷积层\n",
    "        x = self.act(self.conv1(x))\n",
    "        # 第一个池化层\n",
    "        x = self.pool1(x)\n",
    "        # 第二个卷积层\n",
    "        x = self.act(self.conv2(x))\n",
    "        # 第二个池化层\n",
    "        x = self.pool2(x)\n",
    "\n",
    "        # 展平层\n",
    "        x = x.view(-1, 16 * 5 * 5)\n",
    "\n",
    "        # 第一个全连接层\n",
    "        x = self.act(self.fc1(x))\n",
    "        # 第一个dropout层\n",
    "        x = self.dropout(x)\n",
    "        # 第二个全连接层\n",
    "        x = self.act(self.fc2(x))\n",
    "        # 第三个全连接层\n",
    "        x = self.fc3(x)\n",
    "        # softmax层\n",
    "        # x = self.softmax(x)\n",
    "\n",
    "        return x\n"
   ]
  },
  {
   "cell_type": "code",
   "execution_count": 5,
   "id": "f8705cd0-5ae0-4a69-96c0-b4c04c154279",
   "metadata": {
    "ExecuteTime": {
     "start_time": "2023-04-28T16:24:01.193316Z",
     "end_time": "2023-04-28T16:24:02.203246Z"
    }
   },
   "outputs": [],
   "source": [
    "import time\n",
    "import torch.optim as optim\n",
    "import matplotlib.pyplot as plt\n",
    "\n",
    "def train(model, dataloader, criterion, optimizer, device, loss_function):\n",
    "    \"\"\"训练函数\n",
    "    参数:\n",
    "     - model: 模型\n",
    "     - dataloader: 训练集dataloader\n",
    "     - criterion: 损失函数\n",
    "     - optimizer: 优化器\n",
    "     - device: 训练设备\n",
    "    \"\"\"\n",
    "    model.train()\n",
    "    train_loss = 0.0\n",
    "    correct = 0\n",
    "    total = 0\n",
    "    for batch_idx, (imgs, labels) in enumerate(dataloader):\n",
    "        # 将输入和目标载入到设备device\n",
    "        imgs, labels = imgs.to(device), labels.to(device)\n",
    "\n",
    "        # 如果损失函数是mse，进行独热编码\n",
    "        if loss_function == 'mse':\n",
    "            labels = F.one_hot(labels, num_classes=10).float()\n",
    "            labels = torch.argmax(labels, dim=1)\n",
    "\n",
    "        # 梯度清零\n",
    "        optimizer.zero_grad()\n",
    "        # 前向传播\n",
    "        outputs = model(imgs)\n",
    "        # 计算损失\n",
    "        loss = criterion(outputs, labels)\n",
    "        # 反向传播\n",
    "        loss.backward()\n",
    "        # 梯度更新\n",
    "        optimizer.step()\n",
    "\n",
    "        train_loss += loss.item()\n",
    "        # 计算正确预测的数量\n",
    "        _, predicted = outputs.max(1)\n",
    "        total += labels.size(0)\n",
    "        correct += predicted.eq(labels).sum().item()\n",
    "        train_acc = 100. * correct / total\n",
    "        # # 打印训练精度\n",
    "        # print(f'Accuracy: {train_acc}%')\n",
    "    return train_loss / (batch_idx + 1), train_acc\n",
    "\n",
    "\n",
    "def test(model, dataloader, criterion, device, loss_function):\n",
    "    \"\"\"测试函数\n",
    "    参数:\n",
    "     - model: 模型\n",
    "     - dataloader: 测试集dataloader\n",
    "     - criterion: 损失函数\n",
    "     - device: 训练设备\n",
    "    \"\"\"\n",
    "    model.eval()\n",
    "    test_loss = 0\n",
    "    correct = 0\n",
    "    total = 0\n",
    "    with torch.no_grad():\n",
    "        for batch_idx, (imgs, labels) in enumerate(dataloader):\n",
    "            # 将输入和目标载入到设备device\n",
    "            imgs, labels = imgs.to(device), labels.to(device)\n",
    "            if loss_function == 'mse':\n",
    "                labels = F.one_hot(labels, num_classes=10).float()\n",
    "            # 前向传播\n",
    "            outputs = model(imgs)\n",
    "            # 计算损失\n",
    "            loss = criterion(outputs, labels)\n",
    "\n",
    "            test_loss += loss.item()\n",
    "            # 计算正确预测的数量\n",
    "            _, predicted = outputs.max(1)\n",
    "            total += labels.size(0)\n",
    "            if loss_function == 'mse':\n",
    "                labels = torch.argmax(labels, dim=1)\n",
    "            correct += predicted.eq(labels).sum().item()\n",
    "            test_acc = 100. * correct / total\n",
    "            # 打印测试精度\n",
    "            # print(f'Accuracy: {test_acc}%')\n",
    "    return test_loss / (batch_idx + 1), test_acc\n",
    "\n",
    "\n",
    "def plot_training_loss_and_acc(training_losses, training_accuracies, num_epochs):\n",
    "    \"\"\"绘制训练loss和精度曲线\"\"\"\n",
    "    epochs = list(range(1, num_epochs + 1))\n",
    "    plt.figure(figsize=(12, 6))\n",
    "    plt.subplot(1, 2, 1)\n",
    "    plt.plot(epochs, training_losses, label='Training Loss')\n",
    "    plt.xlabel('Epoch')\n",
    "    plt.ylabel('Loss')\n",
    "    plt.legend()\n",
    "\n",
    "    plt.subplot(1, 2, 2)\n",
    "    plt.plot(epochs, training_accuracies, label='Training Accuracy')\n",
    "    plt.xlabel('Epoch')\n",
    "    plt.ylabel('Accuracy')\n",
    "    plt.legend()\n",
    "    plt.show()\n"
   ]
  },
  {
   "cell_type": "code",
   "execution_count": 6,
   "outputs": [],
   "source": [
    "class EarlyStopping:\n",
    "    def __init__(self, patience=2, delta=0.0001):\n",
    "        self.patience = patience\n",
    "        self.delta = delta\n",
    "        self.best_loss = float(\"inf\")\n",
    "        self.counter = 0\n",
    "\n",
    "    def check(self, loss):\n",
    "        if self.best_loss - loss > self.delta:\n",
    "            self.best_loss = loss\n",
    "            self.counter = 0\n",
    "        else:\n",
    "            self.counter += 1\n",
    "            if self.counter >= self.patience:\n",
    "                return True\n",
    "        return False\n"
   ],
   "metadata": {
    "collapsed": false,
    "ExecuteTime": {
     "start_time": "2023-04-28T16:24:02.203246Z",
     "end_time": "2023-04-28T16:24:02.219228Z"
    }
   }
  },
  {
   "cell_type": "code",
   "execution_count": 12,
   "outputs": [],
   "source": [
    "from torch.optim.lr_scheduler import StepLR\n",
    "\n",
    "device = torch.device(\"cuda:0\")\n",
    "\n",
    "def train_lenet5_model(activation='relu', loss_function='ce',\n",
    "                       num_epochs=30, batch_size=64, learning_rate=0.001,\n",
    "                       dropout_rate=0.5, patience=3):\n",
    "    \"\"\"训练 LeNet5 模型\n",
    "    参数:\n",
    "     - activation: 激活函数类型\n",
    "     - loss_function: 损失函数类型\n",
    "     - num_epochs: 训练周期数\n",
    "     - batch_size: 批量大小\n",
    "     - learning_rate: 学习率\n",
    "     - dropout_rate: Dropout 比率\n",
    "     - patience: 早停法的 patience 值\n",
    "    \"\"\"\n",
    "\n",
    "    # 数据加载器\n",
    "    train_loader = DataLoader(train_dataset, batch_size=batch_size, shuffle=True)\n",
    "    test_loader = DataLoader(test_dataset, batch_size=batch_size, shuffle=False)\n",
    "\n",
    "    # 模型初始化\n",
    "    model = LeNet5Model(activation=activation, drop_rate=dropout_rate).to(device)\n",
    "    if loss_function == 'ce':\n",
    "        criterion = nn.CrossEntropyLoss()\n",
    "    if loss_function == 'mse':\n",
    "        criterion = nn.MSELoss()\n",
    "\n",
    "    optimizer = optim.Adam(model.parameters(), lr=learning_rate)\n",
    "    scheduler = StepLR(optimizer, step_size=5, gamma=0.1)\n",
    "\n",
    "    # 跟踪训练loss和精度\n",
    "    train_losses = []\n",
    "    train_accuracies = []\n",
    "\n",
    "    start_time = time.time()\n",
    "\n",
    "    # 早停法监测器\n",
    "    early_stopper = EarlyStopping(patience=patience)\n",
    "\n",
    "    for epoch in range(num_epochs):\n",
    "        print('-' * 50)\n",
    "        train_loss, train_accuracy = train(model, train_loader, criterion, optimizer, device, loss_function)\n",
    "        print(f\"Epoch {epoch + 1}/{num_epochs}, Loss: {train_loss:.4f},  Accuracy: {train_accuracy:.2f}%\")\n",
    "        train_losses.append(train_loss)\n",
    "        train_accuracies.append(train_accuracy)\n",
    "\n",
    "        if (epoch + 1) % 5 == 0:\n",
    "            test_loss, test_accuracy = test(model, test_loader, criterion, device, loss_function)\n",
    "            print(f\"Test Loss: {test_loss:.4f}, Test Accuracy:  {test_accuracy:.2f}%\")\n",
    "\n",
    "            # 检查是否early stop\n",
    "            if early_stopper.check(test_loss):\n",
    "                print(f\"Epoch {epoch + 1}/{num_epochs}: Early stopping.  Best test loss: {early_stopper.best_loss}.\")\n",
    "                num_epochs = epoch + 1\n",
    "                break\n",
    "\n",
    "        scheduler.step()\n",
    "\n",
    "    total_time = time.time() - start_time\n",
    "    print(f\"Total training time: {total_time:.2f} seconds\")\n",
    "\n",
    "    # 保存模型文件\n",
    "    torch.save(model.state_dict(), f\"LeNet5_{activation}_{loss_function}.pth\")\n",
    "\n",
    "    plot_training_loss_and_acc(train_losses, train_accuracies, num_epochs)"
   ],
   "metadata": {
    "collapsed": false,
    "ExecuteTime": {
     "start_time": "2023-04-28T16:29:54.567405Z",
     "end_time": "2023-04-28T16:29:54.583309Z"
    }
   }
  },
  {
   "cell_type": "raw",
   "source": [
    "train_lenet5_model(activation='relu', loss_function='cross_entropy', num_epochs=30, batch_size=64, learning_rate=0.001, dropout_rate=0.5, patience=2)"
   ],
   "metadata": {
    "collapsed": false
   }
  },
  {
   "cell_type": "code",
   "execution_count": 8,
   "outputs": [
    {
     "name": "stdout",
     "output_type": "stream",
     "text": [
      "--------------------------------------------------\n",
      "Epoch 1/30, Loss: 1.1296,  Accuracy: 62.06%\n",
      "--------------------------------------------------\n",
      "Epoch 2/30, Loss: 0.3988,  Accuracy: 87.46%\n",
      "--------------------------------------------------\n",
      "Epoch 3/30, Loss: 0.2789,  Accuracy: 91.33%\n",
      "--------------------------------------------------\n",
      "Epoch 4/30, Loss: 0.2068,  Accuracy: 93.58%\n",
      "--------------------------------------------------\n",
      "Epoch 5/30, Loss: 0.1691,  Accuracy: 94.91%\n",
      "Test Loss: 0.2683, Test Accuracy:  92.97%\n",
      "--------------------------------------------------\n",
      "Epoch 6/30, Loss: 0.1364,  Accuracy: 96.05%\n",
      "--------------------------------------------------\n",
      "Epoch 7/30, Loss: 0.1220,  Accuracy: 96.38%\n",
      "--------------------------------------------------\n",
      "Epoch 8/30, Loss: 0.1205,  Accuracy: 96.30%\n",
      "--------------------------------------------------\n",
      "Epoch 9/30, Loss: 0.1070,  Accuracy: 96.83%\n",
      "--------------------------------------------------\n",
      "Epoch 10/30, Loss: 0.1072,  Accuracy: 96.74%\n",
      "Test Loss: 0.2369, Test Accuracy:  94.27%\n",
      "--------------------------------------------------\n",
      "Epoch 11/30, Loss: 0.1025,  Accuracy: 97.01%\n",
      "--------------------------------------------------\n",
      "Epoch 12/30, Loss: 0.1065,  Accuracy: 96.60%\n",
      "--------------------------------------------------\n",
      "Epoch 13/30, Loss: 0.1061,  Accuracy: 97.00%\n",
      "--------------------------------------------------\n",
      "Epoch 14/30, Loss: 0.1025,  Accuracy: 97.06%\n",
      "--------------------------------------------------\n",
      "Epoch 15/30, Loss: 0.1001,  Accuracy: 97.00%\n",
      "Test Loss: 0.2386, Test Accuracy:  94.22%\n",
      "--------------------------------------------------\n",
      "Epoch 16/30, Loss: 0.1041,  Accuracy: 96.85%\n",
      "--------------------------------------------------\n",
      "Epoch 17/30, Loss: 0.1004,  Accuracy: 97.01%\n",
      "--------------------------------------------------\n",
      "Epoch 18/30, Loss: 0.1003,  Accuracy: 96.96%\n",
      "--------------------------------------------------\n",
      "Epoch 19/30, Loss: 0.1017,  Accuracy: 97.05%\n",
      "--------------------------------------------------\n",
      "Epoch 20/30, Loss: 0.1000,  Accuracy: 97.00%\n",
      "Test Loss: 0.2383, Test Accuracy:  94.27%\n",
      "Epoch 20/30: Early stopping.  Best test loss: 0.2368602545466274.\n",
      "Total training time: 56.47 seconds\n"
     ]
    },
    {
     "data": {
      "text/plain": "<Figure size 1200x600 with 2 Axes>",
      "image/png": "[encoded data removed]"
     },
     "metadata": {},
     "output_type": "display_data"
    }
   ],
   "source": [
    "train_lenet5_model(activation='leaky_relu', loss_function='ce', num_epochs=30, batch_size=64, learning_rate=0.001, dropout_rate=0.5, patience=2)"
   ],
   "metadata": {
    "collapsed": false,
    "ExecuteTime": {
     "start_time": "2023-04-28T16:24:02.243348Z",
     "end_time": "2023-04-28T16:24:59.020210Z"
    }
   }
  },
  {
   "cell_type": "code",
   "execution_count": 9,
   "outputs": [
    {
     "name": "stdout",
     "output_type": "stream",
     "text": [
      "--------------------------------------------------\n",
      "Epoch 1/30, Loss: 0.5090,  Accuracy: 83.28%\n",
      "--------------------------------------------------\n",
      "Epoch 2/30, Loss: 0.1576,  Accuracy: 95.28%\n",
      "--------------------------------------------------\n",
      "Epoch 3/30, Loss: 0.1153,  Accuracy: 96.74%\n",
      "--------------------------------------------------\n",
      "Epoch 4/30, Loss: 0.0778,  Accuracy: 97.71%\n",
      "--------------------------------------------------\n",
      "Epoch 5/30, Loss: 0.0722,  Accuracy: 97.70%\n",
      "Test Loss: 0.2641, Test Accuracy:  93.97%\n",
      "--------------------------------------------------\n",
      "Epoch 6/30, Loss: 0.0306,  Accuracy: 99.14%\n",
      "--------------------------------------------------\n",
      "Epoch 7/30, Loss: 0.0198,  Accuracy: 99.45%\n",
      "--------------------------------------------------\n",
      "Epoch 8/30, Loss: 0.0172,  Accuracy: 99.49%\n",
      "--------------------------------------------------\n",
      "Epoch 9/30, Loss: 0.0131,  Accuracy: 99.68%\n",
      "--------------------------------------------------\n",
      "Epoch 10/30, Loss: 0.0117,  Accuracy: 99.62%\n",
      "Test Loss: 0.2622, Test Accuracy:  95.81%\n",
      "--------------------------------------------------\n",
      "Epoch 11/30, Loss: 0.0099,  Accuracy: 99.74%\n",
      "--------------------------------------------------\n",
      "Epoch 12/30, Loss: 0.0097,  Accuracy: 99.75%\n",
      "--------------------------------------------------\n",
      "Epoch 13/30, Loss: 0.0077,  Accuracy: 99.79%\n",
      "--------------------------------------------------\n",
      "Epoch 14/30, Loss: 0.0078,  Accuracy: 99.81%\n",
      "--------------------------------------------------\n",
      "Epoch 15/30, Loss: 0.0097,  Accuracy: 99.74%\n",
      "Test Loss: 0.2644, Test Accuracy:  95.86%\n",
      "--------------------------------------------------\n",
      "Epoch 16/30, Loss: 0.0088,  Accuracy: 99.74%\n",
      "--------------------------------------------------\n",
      "Epoch 17/30, Loss: 0.0084,  Accuracy: 99.79%\n",
      "--------------------------------------------------\n",
      "Epoch 18/30, Loss: 0.0072,  Accuracy: 99.88%\n",
      "--------------------------------------------------\n",
      "Epoch 19/30, Loss: 0.0079,  Accuracy: 99.86%\n",
      "--------------------------------------------------\n",
      "Epoch 20/30, Loss: 0.0085,  Accuracy: 99.81%\n",
      "Test Loss: 0.2652, Test Accuracy:  95.86%\n",
      "Epoch 20/30: Early stopping.  Best test loss: 0.2621782396327035.\n",
      "Total training time: 59.83 seconds\n"
     ]
    },
    {
     "data": {
      "text/plain": "<Figure size 1200x600 with 2 Axes>",
      "image/png": "[encoded data removed]"
     },
     "metadata": {},
     "output_type": "display_data"
    }
   ],
   "source": [
    "train_lenet5_model(activation='leaky_relu', loss_function='ce', num_epochs=30, batch_size=64, learning_rate=0.01, dropout_rate=0.1, patience=2)\n"
   ],
   "metadata": {
    "collapsed": false,
    "ExecuteTime": {
     "start_time": "2023-04-28T16:24:59.020210Z",
     "end_time": "2023-04-28T16:25:59.095998Z"
    }
   }
  },
  {
   "cell_type": "code",
   "execution_count": 13,
   "outputs": [
    {
     "ename": "AssertionError",
     "evalue": "Torch not compiled with CUDA enabled",
     "output_type": "error",
     "traceback": [
      "\u001B[1;31m---------------------------------------------------------------------------\u001B[0m",
      "\u001B[1;31mAssertionError\u001B[0m                            Traceback (most recent call last)",
      "Cell \u001B[1;32mIn[13], line 1\u001B[0m\n\u001B[1;32m----> 1\u001B[0m \u001B[43mtrain_lenet5_model\u001B[49m\u001B[43m(\u001B[49m\u001B[43mactivation\u001B[49m\u001B[38;5;241;43m=\u001B[39;49m\u001B[38;5;124;43m'\u001B[39;49m\u001B[38;5;124;43msigmoid\u001B[39;49m\u001B[38;5;124;43m'\u001B[39;49m\u001B[43m,\u001B[49m\u001B[43m \u001B[49m\u001B[43mloss_function\u001B[49m\u001B[38;5;241;43m=\u001B[39;49m\u001B[38;5;124;43m'\u001B[39;49m\u001B[38;5;124;43mce\u001B[39;49m\u001B[38;5;124;43m'\u001B[39;49m\u001B[43m,\u001B[49m\u001B[43m \u001B[49m\u001B[43mnum_epochs\u001B[49m\u001B[38;5;241;43m=\u001B[39;49m\u001B[38;5;241;43m30\u001B[39;49m\u001B[43m,\u001B[49m\u001B[43m \u001B[49m\u001B[43mbatch_size\u001B[49m\u001B[38;5;241;43m=\u001B[39;49m\u001B[38;5;241;43m64\u001B[39;49m\u001B[43m,\u001B[49m\u001B[43m \u001B[49m\u001B[43mlearning_rate\u001B[49m\u001B[38;5;241;43m=\u001B[39;49m\u001B[38;5;241;43m0.01\u001B[39;49m\u001B[43m,\u001B[49m\u001B[43m \u001B[49m\u001B[43mdropout_rate\u001B[49m\u001B[38;5;241;43m=\u001B[39;49m\u001B[38;5;241;43m0.0\u001B[39;49m\u001B[43m,\u001B[49m\u001B[43m \u001B[49m\u001B[43mpatience\u001B[49m\u001B[38;5;241;43m=\u001B[39;49m\u001B[38;5;241;43m2\u001B[39;49m\u001B[43m)\u001B[49m\n",
      "Cell \u001B[1;32mIn[12], line 24\u001B[0m, in \u001B[0;36mtrain_lenet5_model\u001B[1;34m(activation, loss_function, num_epochs, batch_size, learning_rate, dropout_rate, patience)\u001B[0m\n\u001B[0;32m     21\u001B[0m test_loader \u001B[38;5;241m=\u001B[39m DataLoader(test_dataset, batch_size\u001B[38;5;241m=\u001B[39mbatch_size, shuffle\u001B[38;5;241m=\u001B[39m\u001B[38;5;28;01mFalse\u001B[39;00m)\n\u001B[0;32m     23\u001B[0m \u001B[38;5;66;03m# 模型初始化\u001B[39;00m\n\u001B[1;32m---> 24\u001B[0m model \u001B[38;5;241m=\u001B[39m \u001B[43mLeNet5Model\u001B[49m\u001B[43m(\u001B[49m\u001B[43mactivation\u001B[49m\u001B[38;5;241;43m=\u001B[39;49m\u001B[43mactivation\u001B[49m\u001B[43m,\u001B[49m\u001B[43m \u001B[49m\u001B[43mdrop_rate\u001B[49m\u001B[38;5;241;43m=\u001B[39;49m\u001B[43mdropout_rate\u001B[49m\u001B[43m)\u001B[49m\u001B[38;5;241;43m.\u001B[39;49m\u001B[43mto\u001B[49m\u001B[43m(\u001B[49m\u001B[43mdevice\u001B[49m\u001B[43m)\u001B[49m\n\u001B[0;32m     25\u001B[0m \u001B[38;5;28;01mif\u001B[39;00m loss_function \u001B[38;5;241m==\u001B[39m \u001B[38;5;124m'\u001B[39m\u001B[38;5;124mce\u001B[39m\u001B[38;5;124m'\u001B[39m:\n\u001B[0;32m     26\u001B[0m     criterion \u001B[38;5;241m=\u001B[39m nn\u001B[38;5;241m.\u001B[39mCrossEntropyLoss()\n",
      "File \u001B[1;32m~\\miniconda3\\envs\\D2L\\lib\\site-packages\\torch\\nn\\modules\\module.py:927\u001B[0m, in \u001B[0;36mModule.to\u001B[1;34m(self, *args, **kwargs)\u001B[0m\n\u001B[0;32m    923\u001B[0m         \u001B[38;5;28;01mreturn\u001B[39;00m t\u001B[38;5;241m.\u001B[39mto(device, dtype \u001B[38;5;28;01mif\u001B[39;00m t\u001B[38;5;241m.\u001B[39mis_floating_point() \u001B[38;5;129;01mor\u001B[39;00m t\u001B[38;5;241m.\u001B[39mis_complex() \u001B[38;5;28;01melse\u001B[39;00m \u001B[38;5;28;01mNone\u001B[39;00m,\n\u001B[0;32m    924\u001B[0m                     non_blocking, memory_format\u001B[38;5;241m=\u001B[39mconvert_to_format)\n\u001B[0;32m    925\u001B[0m     \u001B[38;5;28;01mreturn\u001B[39;00m t\u001B[38;5;241m.\u001B[39mto(device, dtype \u001B[38;5;28;01mif\u001B[39;00m t\u001B[38;5;241m.\u001B[39mis_floating_point() \u001B[38;5;129;01mor\u001B[39;00m t\u001B[38;5;241m.\u001B[39mis_complex() \u001B[38;5;28;01melse\u001B[39;00m \u001B[38;5;28;01mNone\u001B[39;00m, non_blocking)\n\u001B[1;32m--> 927\u001B[0m \u001B[38;5;28;01mreturn\u001B[39;00m \u001B[38;5;28;43mself\u001B[39;49m\u001B[38;5;241;43m.\u001B[39;49m\u001B[43m_apply\u001B[49m\u001B[43m(\u001B[49m\u001B[43mconvert\u001B[49m\u001B[43m)\u001B[49m\n",
      "File \u001B[1;32m~\\miniconda3\\envs\\D2L\\lib\\site-packages\\torch\\nn\\modules\\module.py:579\u001B[0m, in \u001B[0;36mModule._apply\u001B[1;34m(self, fn)\u001B[0m\n\u001B[0;32m    577\u001B[0m \u001B[38;5;28;01mdef\u001B[39;00m \u001B[38;5;21m_apply\u001B[39m(\u001B[38;5;28mself\u001B[39m, fn):\n\u001B[0;32m    578\u001B[0m     \u001B[38;5;28;01mfor\u001B[39;00m module \u001B[38;5;129;01min\u001B[39;00m \u001B[38;5;28mself\u001B[39m\u001B[38;5;241m.\u001B[39mchildren():\n\u001B[1;32m--> 579\u001B[0m         \u001B[43mmodule\u001B[49m\u001B[38;5;241;43m.\u001B[39;49m\u001B[43m_apply\u001B[49m\u001B[43m(\u001B[49m\u001B[43mfn\u001B[49m\u001B[43m)\u001B[49m\n\u001B[0;32m    581\u001B[0m     \u001B[38;5;28;01mdef\u001B[39;00m \u001B[38;5;21mcompute_should_use_set_data\u001B[39m(tensor, tensor_applied):\n\u001B[0;32m    582\u001B[0m         \u001B[38;5;28;01mif\u001B[39;00m torch\u001B[38;5;241m.\u001B[39m_has_compatible_shallow_copy_type(tensor, tensor_applied):\n\u001B[0;32m    583\u001B[0m             \u001B[38;5;66;03m# If the new tensor has compatible tensor type as the existing tensor,\u001B[39;00m\n\u001B[0;32m    584\u001B[0m             \u001B[38;5;66;03m# the current behavior is to change the tensor in-place using `.data =`,\u001B[39;00m\n\u001B[1;32m   (...)\u001B[0m\n\u001B[0;32m    589\u001B[0m             \u001B[38;5;66;03m# global flag to let the user control whether they want the future\u001B[39;00m\n\u001B[0;32m    590\u001B[0m             \u001B[38;5;66;03m# behavior of overwriting the existing tensor or not.\u001B[39;00m\n",
      "File \u001B[1;32m~\\miniconda3\\envs\\D2L\\lib\\site-packages\\torch\\nn\\modules\\module.py:602\u001B[0m, in \u001B[0;36mModule._apply\u001B[1;34m(self, fn)\u001B[0m\n\u001B[0;32m    598\u001B[0m \u001B[38;5;66;03m# Tensors stored in modules are graph leaves, and we don't want to\u001B[39;00m\n\u001B[0;32m    599\u001B[0m \u001B[38;5;66;03m# track autograd history of `param_applied`, so we have to use\u001B[39;00m\n\u001B[0;32m    600\u001B[0m \u001B[38;5;66;03m# `with torch.no_grad():`\u001B[39;00m\n\u001B[0;32m    601\u001B[0m \u001B[38;5;28;01mwith\u001B[39;00m torch\u001B[38;5;241m.\u001B[39mno_grad():\n\u001B[1;32m--> 602\u001B[0m     param_applied \u001B[38;5;241m=\u001B[39m \u001B[43mfn\u001B[49m\u001B[43m(\u001B[49m\u001B[43mparam\u001B[49m\u001B[43m)\u001B[49m\n\u001B[0;32m    603\u001B[0m should_use_set_data \u001B[38;5;241m=\u001B[39m compute_should_use_set_data(param, param_applied)\n\u001B[0;32m    604\u001B[0m \u001B[38;5;28;01mif\u001B[39;00m should_use_set_data:\n",
      "File \u001B[1;32m~\\miniconda3\\envs\\D2L\\lib\\site-packages\\torch\\nn\\modules\\module.py:925\u001B[0m, in \u001B[0;36mModule.to.<locals>.convert\u001B[1;34m(t)\u001B[0m\n\u001B[0;32m    922\u001B[0m \u001B[38;5;28;01mif\u001B[39;00m convert_to_format \u001B[38;5;129;01mis\u001B[39;00m \u001B[38;5;129;01mnot\u001B[39;00m \u001B[38;5;28;01mNone\u001B[39;00m \u001B[38;5;129;01mand\u001B[39;00m t\u001B[38;5;241m.\u001B[39mdim() \u001B[38;5;129;01min\u001B[39;00m (\u001B[38;5;241m4\u001B[39m, \u001B[38;5;241m5\u001B[39m):\n\u001B[0;32m    923\u001B[0m     \u001B[38;5;28;01mreturn\u001B[39;00m t\u001B[38;5;241m.\u001B[39mto(device, dtype \u001B[38;5;28;01mif\u001B[39;00m t\u001B[38;5;241m.\u001B[39mis_floating_point() \u001B[38;5;129;01mor\u001B[39;00m t\u001B[38;5;241m.\u001B[39mis_complex() \u001B[38;5;28;01melse\u001B[39;00m \u001B[38;5;28;01mNone\u001B[39;00m,\n\u001B[0;32m    924\u001B[0m                 non_blocking, memory_format\u001B[38;5;241m=\u001B[39mconvert_to_format)\n\u001B[1;32m--> 925\u001B[0m \u001B[38;5;28;01mreturn\u001B[39;00m \u001B[43mt\u001B[49m\u001B[38;5;241;43m.\u001B[39;49m\u001B[43mto\u001B[49m\u001B[43m(\u001B[49m\u001B[43mdevice\u001B[49m\u001B[43m,\u001B[49m\u001B[43m \u001B[49m\u001B[43mdtype\u001B[49m\u001B[43m \u001B[49m\u001B[38;5;28;43;01mif\u001B[39;49;00m\u001B[43m \u001B[49m\u001B[43mt\u001B[49m\u001B[38;5;241;43m.\u001B[39;49m\u001B[43mis_floating_point\u001B[49m\u001B[43m(\u001B[49m\u001B[43m)\u001B[49m\u001B[43m \u001B[49m\u001B[38;5;129;43;01mor\u001B[39;49;00m\u001B[43m \u001B[49m\u001B[43mt\u001B[49m\u001B[38;5;241;43m.\u001B[39;49m\u001B[43mis_complex\u001B[49m\u001B[43m(\u001B[49m\u001B[43m)\u001B[49m\u001B[43m \u001B[49m\u001B[38;5;28;43;01melse\u001B[39;49;00m\u001B[43m \u001B[49m\u001B[38;5;28;43;01mNone\u001B[39;49;00m\u001B[43m,\u001B[49m\u001B[43m \u001B[49m\u001B[43mnon_blocking\u001B[49m\u001B[43m)\u001B[49m\n",
      "File \u001B[1;32m~\\miniconda3\\envs\\D2L\\lib\\site-packages\\torch\\cuda\\__init__.py:211\u001B[0m, in \u001B[0;36m_lazy_init\u001B[1;34m()\u001B[0m\n\u001B[0;32m    207\u001B[0m     \u001B[38;5;28;01mraise\u001B[39;00m \u001B[38;5;167;01mRuntimeError\u001B[39;00m(\n\u001B[0;32m    208\u001B[0m         \u001B[38;5;124m\"\u001B[39m\u001B[38;5;124mCannot re-initialize CUDA in forked subprocess. To use CUDA with \u001B[39m\u001B[38;5;124m\"\u001B[39m\n\u001B[0;32m    209\u001B[0m         \u001B[38;5;124m\"\u001B[39m\u001B[38;5;124mmultiprocessing, you must use the \u001B[39m\u001B[38;5;124m'\u001B[39m\u001B[38;5;124mspawn\u001B[39m\u001B[38;5;124m'\u001B[39m\u001B[38;5;124m start method\u001B[39m\u001B[38;5;124m\"\u001B[39m)\n\u001B[0;32m    210\u001B[0m \u001B[38;5;28;01mif\u001B[39;00m \u001B[38;5;129;01mnot\u001B[39;00m \u001B[38;5;28mhasattr\u001B[39m(torch\u001B[38;5;241m.\u001B[39m_C, \u001B[38;5;124m'\u001B[39m\u001B[38;5;124m_cuda_getDeviceCount\u001B[39m\u001B[38;5;124m'\u001B[39m):\n\u001B[1;32m--> 211\u001B[0m     \u001B[38;5;28;01mraise\u001B[39;00m \u001B[38;5;167;01mAssertionError\u001B[39;00m(\u001B[38;5;124m\"\u001B[39m\u001B[38;5;124mTorch not compiled with CUDA enabled\u001B[39m\u001B[38;5;124m\"\u001B[39m)\n\u001B[0;32m    212\u001B[0m \u001B[38;5;28;01mif\u001B[39;00m _cudart \u001B[38;5;129;01mis\u001B[39;00m \u001B[38;5;28;01mNone\u001B[39;00m:\n\u001B[0;32m    213\u001B[0m     \u001B[38;5;28;01mraise\u001B[39;00m \u001B[38;5;167;01mAssertionError\u001B[39;00m(\n\u001B[0;32m    214\u001B[0m         \u001B[38;5;124m\"\u001B[39m\u001B[38;5;124mlibcudart functions unavailable. It looks like you have a broken build?\u001B[39m\u001B[38;5;124m\"\u001B[39m)\n",
      "\u001B[1;31mAssertionError\u001B[0m: Torch not compiled with CUDA enabled"
     ]
    }
   ],
   "source": [
    "train_lenet5_model(activation='sigmoid', loss_function='ce', num_epochs=30, batch_size=64, learning_rate=0.01, dropout_rate=0.0, patience=2)"
   ],
   "metadata": {
    "collapsed": false,
    "ExecuteTime": {
     "start_time": "2023-04-28T16:10:13.878469Z",
     "end_time": "2023-04-28T16:10:50.397446Z"
    }
   }
  },
  {
   "cell_type": "code",
   "execution_count": null,
   "outputs": [],
   "source": [
    "train_lenet5_model(activation='relu', loss_function='ce', num_epochs=30, batch_size=64, learning_rate=0.01, dropout_rate=0.0, patience=2)"
   ],
   "metadata": {
    "collapsed": false,
    "ExecuteTime": {
     "start_time": "2023-04-28T16:11:25.492807Z",
     "end_time": "2023-04-28T16:12:00.684601Z"
    }
   }
  }
 ],
 "metadata": {
  "kernelspec": {
   "name": "python3",
   "language": "python",
   "display_name": "Python 3 (ipykernel)"
  },
  "language_info": {
   "codemirror_mode": {
    "name": "ipython",
    "version": 3
   },
   "file_extension": ".py",
   "mimetype": "text/x-python",
   "name": "python",
   "nbconvert_exporter": "python",
   "pygments_lexer": "ipython3",
   "version": "3.7.10"
  }
 },
 "nbformat": 4,
 "nbformat_minor": 5
}
